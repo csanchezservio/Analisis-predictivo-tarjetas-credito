{
 "cells": [
  {
   "attachments": {},
   "cell_type": "markdown",
   "metadata": {},
   "source": [
    "## **EDA** ##"
   ]
  },
  {
   "cell_type": "code",
   "execution_count": 1,
   "metadata": {},
   "outputs": [
    {
     "data": {
      "text/html": [
       "<div>\n",
       "<style scoped>\n",
       "    .dataframe tbody tr th:only-of-type {\n",
       "        vertical-align: middle;\n",
       "    }\n",
       "\n",
       "    .dataframe tbody tr th {\n",
       "        vertical-align: top;\n",
       "    }\n",
       "\n",
       "    .dataframe thead th {\n",
       "        text-align: right;\n",
       "    }\n",
       "</style>\n",
       "<table border=\"1\" class=\"dataframe\">\n",
       "  <thead>\n",
       "    <tr style=\"text-align: right;\">\n",
       "      <th></th>\n",
       "      <th>ID</th>\n",
       "      <th>CODE_GENDER</th>\n",
       "      <th>FLAG_OWN_CAR</th>\n",
       "      <th>FLAG_OWN_REALTY</th>\n",
       "      <th>CNT_CHILDREN</th>\n",
       "      <th>AMT_INCOME_TOTAL</th>\n",
       "      <th>NAME_INCOME_TYPE</th>\n",
       "      <th>NAME_EDUCATION_TYPE</th>\n",
       "      <th>NAME_FAMILY_STATUS</th>\n",
       "      <th>NAME_HOUSING_TYPE</th>\n",
       "      <th>DAYS_BIRTH</th>\n",
       "      <th>DAYS_EMPLOYED</th>\n",
       "      <th>FLAG_MOBIL</th>\n",
       "      <th>FLAG_WORK_PHONE</th>\n",
       "      <th>FLAG_PHONE</th>\n",
       "      <th>FLAG_EMAIL</th>\n",
       "      <th>OCCUPATION_TYPE</th>\n",
       "      <th>CNT_FAM_MEMBERS</th>\n",
       "    </tr>\n",
       "  </thead>\n",
       "  <tbody>\n",
       "    <tr>\n",
       "      <th>0</th>\n",
       "      <td>5008804</td>\n",
       "      <td>M</td>\n",
       "      <td>Y</td>\n",
       "      <td>Y</td>\n",
       "      <td>0</td>\n",
       "      <td>427500.0</td>\n",
       "      <td>Working</td>\n",
       "      <td>Higher education</td>\n",
       "      <td>Civil marriage</td>\n",
       "      <td>Rented apartment</td>\n",
       "      <td>-12005</td>\n",
       "      <td>-4542</td>\n",
       "      <td>1</td>\n",
       "      <td>1</td>\n",
       "      <td>0</td>\n",
       "      <td>0</td>\n",
       "      <td>NaN</td>\n",
       "      <td>2.0</td>\n",
       "    </tr>\n",
       "    <tr>\n",
       "      <th>1</th>\n",
       "      <td>5008805</td>\n",
       "      <td>M</td>\n",
       "      <td>Y</td>\n",
       "      <td>Y</td>\n",
       "      <td>0</td>\n",
       "      <td>427500.0</td>\n",
       "      <td>Working</td>\n",
       "      <td>Higher education</td>\n",
       "      <td>Civil marriage</td>\n",
       "      <td>Rented apartment</td>\n",
       "      <td>-12005</td>\n",
       "      <td>-4542</td>\n",
       "      <td>1</td>\n",
       "      <td>1</td>\n",
       "      <td>0</td>\n",
       "      <td>0</td>\n",
       "      <td>NaN</td>\n",
       "      <td>2.0</td>\n",
       "    </tr>\n",
       "    <tr>\n",
       "      <th>2</th>\n",
       "      <td>5008806</td>\n",
       "      <td>M</td>\n",
       "      <td>Y</td>\n",
       "      <td>Y</td>\n",
       "      <td>0</td>\n",
       "      <td>112500.0</td>\n",
       "      <td>Working</td>\n",
       "      <td>Secondary / secondary special</td>\n",
       "      <td>Married</td>\n",
       "      <td>House / apartment</td>\n",
       "      <td>-21474</td>\n",
       "      <td>-1134</td>\n",
       "      <td>1</td>\n",
       "      <td>0</td>\n",
       "      <td>0</td>\n",
       "      <td>0</td>\n",
       "      <td>Security staff</td>\n",
       "      <td>2.0</td>\n",
       "    </tr>\n",
       "    <tr>\n",
       "      <th>3</th>\n",
       "      <td>5008808</td>\n",
       "      <td>F</td>\n",
       "      <td>N</td>\n",
       "      <td>Y</td>\n",
       "      <td>0</td>\n",
       "      <td>270000.0</td>\n",
       "      <td>Commercial associate</td>\n",
       "      <td>Secondary / secondary special</td>\n",
       "      <td>Single / not married</td>\n",
       "      <td>House / apartment</td>\n",
       "      <td>-19110</td>\n",
       "      <td>-3051</td>\n",
       "      <td>1</td>\n",
       "      <td>0</td>\n",
       "      <td>1</td>\n",
       "      <td>1</td>\n",
       "      <td>Sales staff</td>\n",
       "      <td>1.0</td>\n",
       "    </tr>\n",
       "    <tr>\n",
       "      <th>4</th>\n",
       "      <td>5008809</td>\n",
       "      <td>F</td>\n",
       "      <td>N</td>\n",
       "      <td>Y</td>\n",
       "      <td>0</td>\n",
       "      <td>270000.0</td>\n",
       "      <td>Commercial associate</td>\n",
       "      <td>Secondary / secondary special</td>\n",
       "      <td>Single / not married</td>\n",
       "      <td>House / apartment</td>\n",
       "      <td>-19110</td>\n",
       "      <td>-3051</td>\n",
       "      <td>1</td>\n",
       "      <td>0</td>\n",
       "      <td>1</td>\n",
       "      <td>1</td>\n",
       "      <td>Sales staff</td>\n",
       "      <td>1.0</td>\n",
       "    </tr>\n",
       "    <tr>\n",
       "      <th>...</th>\n",
       "      <td>...</td>\n",
       "      <td>...</td>\n",
       "      <td>...</td>\n",
       "      <td>...</td>\n",
       "      <td>...</td>\n",
       "      <td>...</td>\n",
       "      <td>...</td>\n",
       "      <td>...</td>\n",
       "      <td>...</td>\n",
       "      <td>...</td>\n",
       "      <td>...</td>\n",
       "      <td>...</td>\n",
       "      <td>...</td>\n",
       "      <td>...</td>\n",
       "      <td>...</td>\n",
       "      <td>...</td>\n",
       "      <td>...</td>\n",
       "      <td>...</td>\n",
       "    </tr>\n",
       "    <tr>\n",
       "      <th>438552</th>\n",
       "      <td>6840104</td>\n",
       "      <td>M</td>\n",
       "      <td>N</td>\n",
       "      <td>Y</td>\n",
       "      <td>0</td>\n",
       "      <td>135000.0</td>\n",
       "      <td>Pensioner</td>\n",
       "      <td>Secondary / secondary special</td>\n",
       "      <td>Separated</td>\n",
       "      <td>House / apartment</td>\n",
       "      <td>-22717</td>\n",
       "      <td>365243</td>\n",
       "      <td>1</td>\n",
       "      <td>0</td>\n",
       "      <td>0</td>\n",
       "      <td>0</td>\n",
       "      <td>NaN</td>\n",
       "      <td>1.0</td>\n",
       "    </tr>\n",
       "    <tr>\n",
       "      <th>438553</th>\n",
       "      <td>6840222</td>\n",
       "      <td>F</td>\n",
       "      <td>N</td>\n",
       "      <td>N</td>\n",
       "      <td>0</td>\n",
       "      <td>103500.0</td>\n",
       "      <td>Working</td>\n",
       "      <td>Secondary / secondary special</td>\n",
       "      <td>Single / not married</td>\n",
       "      <td>House / apartment</td>\n",
       "      <td>-15939</td>\n",
       "      <td>-3007</td>\n",
       "      <td>1</td>\n",
       "      <td>0</td>\n",
       "      <td>0</td>\n",
       "      <td>0</td>\n",
       "      <td>Laborers</td>\n",
       "      <td>1.0</td>\n",
       "    </tr>\n",
       "    <tr>\n",
       "      <th>438554</th>\n",
       "      <td>6841878</td>\n",
       "      <td>F</td>\n",
       "      <td>N</td>\n",
       "      <td>N</td>\n",
       "      <td>0</td>\n",
       "      <td>54000.0</td>\n",
       "      <td>Commercial associate</td>\n",
       "      <td>Higher education</td>\n",
       "      <td>Single / not married</td>\n",
       "      <td>With parents</td>\n",
       "      <td>-8169</td>\n",
       "      <td>-372</td>\n",
       "      <td>1</td>\n",
       "      <td>1</td>\n",
       "      <td>0</td>\n",
       "      <td>0</td>\n",
       "      <td>Sales staff</td>\n",
       "      <td>1.0</td>\n",
       "    </tr>\n",
       "    <tr>\n",
       "      <th>438555</th>\n",
       "      <td>6842765</td>\n",
       "      <td>F</td>\n",
       "      <td>N</td>\n",
       "      <td>Y</td>\n",
       "      <td>0</td>\n",
       "      <td>72000.0</td>\n",
       "      <td>Pensioner</td>\n",
       "      <td>Secondary / secondary special</td>\n",
       "      <td>Married</td>\n",
       "      <td>House / apartment</td>\n",
       "      <td>-21673</td>\n",
       "      <td>365243</td>\n",
       "      <td>1</td>\n",
       "      <td>0</td>\n",
       "      <td>0</td>\n",
       "      <td>0</td>\n",
       "      <td>NaN</td>\n",
       "      <td>2.0</td>\n",
       "    </tr>\n",
       "    <tr>\n",
       "      <th>438556</th>\n",
       "      <td>6842885</td>\n",
       "      <td>F</td>\n",
       "      <td>N</td>\n",
       "      <td>Y</td>\n",
       "      <td>0</td>\n",
       "      <td>121500.0</td>\n",
       "      <td>Working</td>\n",
       "      <td>Secondary / secondary special</td>\n",
       "      <td>Married</td>\n",
       "      <td>House / apartment</td>\n",
       "      <td>-18858</td>\n",
       "      <td>-1201</td>\n",
       "      <td>1</td>\n",
       "      <td>0</td>\n",
       "      <td>1</td>\n",
       "      <td>0</td>\n",
       "      <td>Sales staff</td>\n",
       "      <td>2.0</td>\n",
       "    </tr>\n",
       "  </tbody>\n",
       "</table>\n",
       "<p>438557 rows × 18 columns</p>\n",
       "</div>"
      ],
      "text/plain": [
       "             ID CODE_GENDER FLAG_OWN_CAR FLAG_OWN_REALTY  CNT_CHILDREN  \\\n",
       "0       5008804           M            Y               Y             0   \n",
       "1       5008805           M            Y               Y             0   \n",
       "2       5008806           M            Y               Y             0   \n",
       "3       5008808           F            N               Y             0   \n",
       "4       5008809           F            N               Y             0   \n",
       "...         ...         ...          ...             ...           ...   \n",
       "438552  6840104           M            N               Y             0   \n",
       "438553  6840222           F            N               N             0   \n",
       "438554  6841878           F            N               N             0   \n",
       "438555  6842765           F            N               Y             0   \n",
       "438556  6842885           F            N               Y             0   \n",
       "\n",
       "        AMT_INCOME_TOTAL      NAME_INCOME_TYPE            NAME_EDUCATION_TYPE  \\\n",
       "0               427500.0               Working               Higher education   \n",
       "1               427500.0               Working               Higher education   \n",
       "2               112500.0               Working  Secondary / secondary special   \n",
       "3               270000.0  Commercial associate  Secondary / secondary special   \n",
       "4               270000.0  Commercial associate  Secondary / secondary special   \n",
       "...                  ...                   ...                            ...   \n",
       "438552          135000.0             Pensioner  Secondary / secondary special   \n",
       "438553          103500.0               Working  Secondary / secondary special   \n",
       "438554           54000.0  Commercial associate               Higher education   \n",
       "438555           72000.0             Pensioner  Secondary / secondary special   \n",
       "438556          121500.0               Working  Secondary / secondary special   \n",
       "\n",
       "          NAME_FAMILY_STATUS  NAME_HOUSING_TYPE  DAYS_BIRTH  DAYS_EMPLOYED  \\\n",
       "0             Civil marriage   Rented apartment      -12005          -4542   \n",
       "1             Civil marriage   Rented apartment      -12005          -4542   \n",
       "2                    Married  House / apartment      -21474          -1134   \n",
       "3       Single / not married  House / apartment      -19110          -3051   \n",
       "4       Single / not married  House / apartment      -19110          -3051   \n",
       "...                      ...                ...         ...            ...   \n",
       "438552             Separated  House / apartment      -22717         365243   \n",
       "438553  Single / not married  House / apartment      -15939          -3007   \n",
       "438554  Single / not married       With parents       -8169           -372   \n",
       "438555               Married  House / apartment      -21673         365243   \n",
       "438556               Married  House / apartment      -18858          -1201   \n",
       "\n",
       "        FLAG_MOBIL  FLAG_WORK_PHONE  FLAG_PHONE  FLAG_EMAIL OCCUPATION_TYPE  \\\n",
       "0                1                1           0           0             NaN   \n",
       "1                1                1           0           0             NaN   \n",
       "2                1                0           0           0  Security staff   \n",
       "3                1                0           1           1     Sales staff   \n",
       "4                1                0           1           1     Sales staff   \n",
       "...            ...              ...         ...         ...             ...   \n",
       "438552           1                0           0           0             NaN   \n",
       "438553           1                0           0           0        Laborers   \n",
       "438554           1                1           0           0     Sales staff   \n",
       "438555           1                0           0           0             NaN   \n",
       "438556           1                0           1           0     Sales staff   \n",
       "\n",
       "        CNT_FAM_MEMBERS  \n",
       "0                   2.0  \n",
       "1                   2.0  \n",
       "2                   2.0  \n",
       "3                   1.0  \n",
       "4                   1.0  \n",
       "...                 ...  \n",
       "438552              1.0  \n",
       "438553              1.0  \n",
       "438554              1.0  \n",
       "438555              2.0  \n",
       "438556              2.0  \n",
       "\n",
       "[438557 rows x 18 columns]"
      ]
     },
     "execution_count": 1,
     "metadata": {},
     "output_type": "execute_result"
    }
   ],
   "source": [
    "import pandas as pd\n",
    "\n",
    "df=pd.read_csv('data/application_record/application_record.csv')\n",
    "df"
   ]
  },
  {
   "cell_type": "code",
   "execution_count": 2,
   "metadata": {},
   "outputs": [
    {
     "data": {
      "text/html": [
       "<div>\n",
       "<style scoped>\n",
       "    .dataframe tbody tr th:only-of-type {\n",
       "        vertical-align: middle;\n",
       "    }\n",
       "\n",
       "    .dataframe tbody tr th {\n",
       "        vertical-align: top;\n",
       "    }\n",
       "\n",
       "    .dataframe thead th {\n",
       "        text-align: right;\n",
       "    }\n",
       "</style>\n",
       "<table border=\"1\" class=\"dataframe\">\n",
       "  <thead>\n",
       "    <tr style=\"text-align: right;\">\n",
       "      <th></th>\n",
       "      <th>ID</th>\n",
       "      <th>MONTHS_BALANCE</th>\n",
       "      <th>STATUS</th>\n",
       "    </tr>\n",
       "  </thead>\n",
       "  <tbody>\n",
       "    <tr>\n",
       "      <th>0</th>\n",
       "      <td>5001711</td>\n",
       "      <td>0</td>\n",
       "      <td>X</td>\n",
       "    </tr>\n",
       "    <tr>\n",
       "      <th>1</th>\n",
       "      <td>5001711</td>\n",
       "      <td>-1</td>\n",
       "      <td>0</td>\n",
       "    </tr>\n",
       "    <tr>\n",
       "      <th>2</th>\n",
       "      <td>5001711</td>\n",
       "      <td>-2</td>\n",
       "      <td>0</td>\n",
       "    </tr>\n",
       "    <tr>\n",
       "      <th>3</th>\n",
       "      <td>5001711</td>\n",
       "      <td>-3</td>\n",
       "      <td>0</td>\n",
       "    </tr>\n",
       "    <tr>\n",
       "      <th>4</th>\n",
       "      <td>5001712</td>\n",
       "      <td>0</td>\n",
       "      <td>C</td>\n",
       "    </tr>\n",
       "    <tr>\n",
       "      <th>...</th>\n",
       "      <td>...</td>\n",
       "      <td>...</td>\n",
       "      <td>...</td>\n",
       "    </tr>\n",
       "    <tr>\n",
       "      <th>1048570</th>\n",
       "      <td>5150487</td>\n",
       "      <td>-25</td>\n",
       "      <td>C</td>\n",
       "    </tr>\n",
       "    <tr>\n",
       "      <th>1048571</th>\n",
       "      <td>5150487</td>\n",
       "      <td>-26</td>\n",
       "      <td>C</td>\n",
       "    </tr>\n",
       "    <tr>\n",
       "      <th>1048572</th>\n",
       "      <td>5150487</td>\n",
       "      <td>-27</td>\n",
       "      <td>C</td>\n",
       "    </tr>\n",
       "    <tr>\n",
       "      <th>1048573</th>\n",
       "      <td>5150487</td>\n",
       "      <td>-28</td>\n",
       "      <td>C</td>\n",
       "    </tr>\n",
       "    <tr>\n",
       "      <th>1048574</th>\n",
       "      <td>5150487</td>\n",
       "      <td>-29</td>\n",
       "      <td>C</td>\n",
       "    </tr>\n",
       "  </tbody>\n",
       "</table>\n",
       "<p>1048575 rows × 3 columns</p>\n",
       "</div>"
      ],
      "text/plain": [
       "              ID  MONTHS_BALANCE STATUS\n",
       "0        5001711               0      X\n",
       "1        5001711              -1      0\n",
       "2        5001711              -2      0\n",
       "3        5001711              -3      0\n",
       "4        5001712               0      C\n",
       "...          ...             ...    ...\n",
       "1048570  5150487             -25      C\n",
       "1048571  5150487             -26      C\n",
       "1048572  5150487             -27      C\n",
       "1048573  5150487             -28      C\n",
       "1048574  5150487             -29      C\n",
       "\n",
       "[1048575 rows x 3 columns]"
      ]
     },
     "execution_count": 2,
     "metadata": {},
     "output_type": "execute_result"
    }
   ],
   "source": [
    "df_2=pd.read_csv('data/credit_record/credit_record.csv')\n",
    "df_2"
   ]
  },
  {
   "cell_type": "code",
   "execution_count": 3,
   "metadata": {},
   "outputs": [],
   "source": [
    "# Uno los dos datasets:"
   ]
  },
  {
   "cell_type": "code",
   "execution_count": 3,
   "metadata": {},
   "outputs": [
    {
     "data": {
      "text/html": [
       "<div>\n",
       "<style scoped>\n",
       "    .dataframe tbody tr th:only-of-type {\n",
       "        vertical-align: middle;\n",
       "    }\n",
       "\n",
       "    .dataframe tbody tr th {\n",
       "        vertical-align: top;\n",
       "    }\n",
       "\n",
       "    .dataframe thead th {\n",
       "        text-align: right;\n",
       "    }\n",
       "</style>\n",
       "<table border=\"1\" class=\"dataframe\">\n",
       "  <thead>\n",
       "    <tr style=\"text-align: right;\">\n",
       "      <th></th>\n",
       "      <th>ID</th>\n",
       "      <th>CODE_GENDER</th>\n",
       "      <th>FLAG_OWN_CAR</th>\n",
       "      <th>FLAG_OWN_REALTY</th>\n",
       "      <th>CNT_CHILDREN</th>\n",
       "      <th>AMT_INCOME_TOTAL</th>\n",
       "      <th>NAME_INCOME_TYPE</th>\n",
       "      <th>NAME_EDUCATION_TYPE</th>\n",
       "      <th>NAME_FAMILY_STATUS</th>\n",
       "      <th>NAME_HOUSING_TYPE</th>\n",
       "      <th>DAYS_BIRTH</th>\n",
       "      <th>DAYS_EMPLOYED</th>\n",
       "      <th>FLAG_MOBIL</th>\n",
       "      <th>FLAG_WORK_PHONE</th>\n",
       "      <th>FLAG_PHONE</th>\n",
       "      <th>FLAG_EMAIL</th>\n",
       "      <th>OCCUPATION_TYPE</th>\n",
       "      <th>CNT_FAM_MEMBERS</th>\n",
       "      <th>MONTHS_BALANCE</th>\n",
       "      <th>STATUS</th>\n",
       "    </tr>\n",
       "  </thead>\n",
       "  <tbody>\n",
       "    <tr>\n",
       "      <th>0</th>\n",
       "      <td>5008804</td>\n",
       "      <td>M</td>\n",
       "      <td>Y</td>\n",
       "      <td>Y</td>\n",
       "      <td>0</td>\n",
       "      <td>427500.0</td>\n",
       "      <td>Working</td>\n",
       "      <td>Higher education</td>\n",
       "      <td>Civil marriage</td>\n",
       "      <td>Rented apartment</td>\n",
       "      <td>-12005</td>\n",
       "      <td>-4542</td>\n",
       "      <td>1</td>\n",
       "      <td>1</td>\n",
       "      <td>0</td>\n",
       "      <td>0</td>\n",
       "      <td>NaN</td>\n",
       "      <td>2.0</td>\n",
       "      <td>0</td>\n",
       "      <td>C</td>\n",
       "    </tr>\n",
       "    <tr>\n",
       "      <th>1</th>\n",
       "      <td>5008804</td>\n",
       "      <td>M</td>\n",
       "      <td>Y</td>\n",
       "      <td>Y</td>\n",
       "      <td>0</td>\n",
       "      <td>427500.0</td>\n",
       "      <td>Working</td>\n",
       "      <td>Higher education</td>\n",
       "      <td>Civil marriage</td>\n",
       "      <td>Rented apartment</td>\n",
       "      <td>-12005</td>\n",
       "      <td>-4542</td>\n",
       "      <td>1</td>\n",
       "      <td>1</td>\n",
       "      <td>0</td>\n",
       "      <td>0</td>\n",
       "      <td>NaN</td>\n",
       "      <td>2.0</td>\n",
       "      <td>-1</td>\n",
       "      <td>C</td>\n",
       "    </tr>\n",
       "    <tr>\n",
       "      <th>2</th>\n",
       "      <td>5008804</td>\n",
       "      <td>M</td>\n",
       "      <td>Y</td>\n",
       "      <td>Y</td>\n",
       "      <td>0</td>\n",
       "      <td>427500.0</td>\n",
       "      <td>Working</td>\n",
       "      <td>Higher education</td>\n",
       "      <td>Civil marriage</td>\n",
       "      <td>Rented apartment</td>\n",
       "      <td>-12005</td>\n",
       "      <td>-4542</td>\n",
       "      <td>1</td>\n",
       "      <td>1</td>\n",
       "      <td>0</td>\n",
       "      <td>0</td>\n",
       "      <td>NaN</td>\n",
       "      <td>2.0</td>\n",
       "      <td>-2</td>\n",
       "      <td>C</td>\n",
       "    </tr>\n",
       "    <tr>\n",
       "      <th>3</th>\n",
       "      <td>5008804</td>\n",
       "      <td>M</td>\n",
       "      <td>Y</td>\n",
       "      <td>Y</td>\n",
       "      <td>0</td>\n",
       "      <td>427500.0</td>\n",
       "      <td>Working</td>\n",
       "      <td>Higher education</td>\n",
       "      <td>Civil marriage</td>\n",
       "      <td>Rented apartment</td>\n",
       "      <td>-12005</td>\n",
       "      <td>-4542</td>\n",
       "      <td>1</td>\n",
       "      <td>1</td>\n",
       "      <td>0</td>\n",
       "      <td>0</td>\n",
       "      <td>NaN</td>\n",
       "      <td>2.0</td>\n",
       "      <td>-3</td>\n",
       "      <td>C</td>\n",
       "    </tr>\n",
       "    <tr>\n",
       "      <th>4</th>\n",
       "      <td>5008804</td>\n",
       "      <td>M</td>\n",
       "      <td>Y</td>\n",
       "      <td>Y</td>\n",
       "      <td>0</td>\n",
       "      <td>427500.0</td>\n",
       "      <td>Working</td>\n",
       "      <td>Higher education</td>\n",
       "      <td>Civil marriage</td>\n",
       "      <td>Rented apartment</td>\n",
       "      <td>-12005</td>\n",
       "      <td>-4542</td>\n",
       "      <td>1</td>\n",
       "      <td>1</td>\n",
       "      <td>0</td>\n",
       "      <td>0</td>\n",
       "      <td>NaN</td>\n",
       "      <td>2.0</td>\n",
       "      <td>-4</td>\n",
       "      <td>C</td>\n",
       "    </tr>\n",
       "    <tr>\n",
       "      <th>...</th>\n",
       "      <td>...</td>\n",
       "      <td>...</td>\n",
       "      <td>...</td>\n",
       "      <td>...</td>\n",
       "      <td>...</td>\n",
       "      <td>...</td>\n",
       "      <td>...</td>\n",
       "      <td>...</td>\n",
       "      <td>...</td>\n",
       "      <td>...</td>\n",
       "      <td>...</td>\n",
       "      <td>...</td>\n",
       "      <td>...</td>\n",
       "      <td>...</td>\n",
       "      <td>...</td>\n",
       "      <td>...</td>\n",
       "      <td>...</td>\n",
       "      <td>...</td>\n",
       "      <td>...</td>\n",
       "      <td>...</td>\n",
       "    </tr>\n",
       "    <tr>\n",
       "      <th>777710</th>\n",
       "      <td>5150337</td>\n",
       "      <td>M</td>\n",
       "      <td>N</td>\n",
       "      <td>Y</td>\n",
       "      <td>0</td>\n",
       "      <td>112500.0</td>\n",
       "      <td>Working</td>\n",
       "      <td>Secondary / secondary special</td>\n",
       "      <td>Single / not married</td>\n",
       "      <td>Rented apartment</td>\n",
       "      <td>-9188</td>\n",
       "      <td>-1193</td>\n",
       "      <td>1</td>\n",
       "      <td>0</td>\n",
       "      <td>0</td>\n",
       "      <td>0</td>\n",
       "      <td>Laborers</td>\n",
       "      <td>1.0</td>\n",
       "      <td>-9</td>\n",
       "      <td>0</td>\n",
       "    </tr>\n",
       "    <tr>\n",
       "      <th>777711</th>\n",
       "      <td>5150337</td>\n",
       "      <td>M</td>\n",
       "      <td>N</td>\n",
       "      <td>Y</td>\n",
       "      <td>0</td>\n",
       "      <td>112500.0</td>\n",
       "      <td>Working</td>\n",
       "      <td>Secondary / secondary special</td>\n",
       "      <td>Single / not married</td>\n",
       "      <td>Rented apartment</td>\n",
       "      <td>-9188</td>\n",
       "      <td>-1193</td>\n",
       "      <td>1</td>\n",
       "      <td>0</td>\n",
       "      <td>0</td>\n",
       "      <td>0</td>\n",
       "      <td>Laborers</td>\n",
       "      <td>1.0</td>\n",
       "      <td>-10</td>\n",
       "      <td>2</td>\n",
       "    </tr>\n",
       "    <tr>\n",
       "      <th>777712</th>\n",
       "      <td>5150337</td>\n",
       "      <td>M</td>\n",
       "      <td>N</td>\n",
       "      <td>Y</td>\n",
       "      <td>0</td>\n",
       "      <td>112500.0</td>\n",
       "      <td>Working</td>\n",
       "      <td>Secondary / secondary special</td>\n",
       "      <td>Single / not married</td>\n",
       "      <td>Rented apartment</td>\n",
       "      <td>-9188</td>\n",
       "      <td>-1193</td>\n",
       "      <td>1</td>\n",
       "      <td>0</td>\n",
       "      <td>0</td>\n",
       "      <td>0</td>\n",
       "      <td>Laborers</td>\n",
       "      <td>1.0</td>\n",
       "      <td>-11</td>\n",
       "      <td>1</td>\n",
       "    </tr>\n",
       "    <tr>\n",
       "      <th>777713</th>\n",
       "      <td>5150337</td>\n",
       "      <td>M</td>\n",
       "      <td>N</td>\n",
       "      <td>Y</td>\n",
       "      <td>0</td>\n",
       "      <td>112500.0</td>\n",
       "      <td>Working</td>\n",
       "      <td>Secondary / secondary special</td>\n",
       "      <td>Single / not married</td>\n",
       "      <td>Rented apartment</td>\n",
       "      <td>-9188</td>\n",
       "      <td>-1193</td>\n",
       "      <td>1</td>\n",
       "      <td>0</td>\n",
       "      <td>0</td>\n",
       "      <td>0</td>\n",
       "      <td>Laborers</td>\n",
       "      <td>1.0</td>\n",
       "      <td>-12</td>\n",
       "      <td>0</td>\n",
       "    </tr>\n",
       "    <tr>\n",
       "      <th>777714</th>\n",
       "      <td>5150337</td>\n",
       "      <td>M</td>\n",
       "      <td>N</td>\n",
       "      <td>Y</td>\n",
       "      <td>0</td>\n",
       "      <td>112500.0</td>\n",
       "      <td>Working</td>\n",
       "      <td>Secondary / secondary special</td>\n",
       "      <td>Single / not married</td>\n",
       "      <td>Rented apartment</td>\n",
       "      <td>-9188</td>\n",
       "      <td>-1193</td>\n",
       "      <td>1</td>\n",
       "      <td>0</td>\n",
       "      <td>0</td>\n",
       "      <td>0</td>\n",
       "      <td>Laborers</td>\n",
       "      <td>1.0</td>\n",
       "      <td>-13</td>\n",
       "      <td>0</td>\n",
       "    </tr>\n",
       "  </tbody>\n",
       "</table>\n",
       "<p>777715 rows × 20 columns</p>\n",
       "</div>"
      ],
      "text/plain": [
       "             ID CODE_GENDER FLAG_OWN_CAR FLAG_OWN_REALTY  CNT_CHILDREN  \\\n",
       "0       5008804           M            Y               Y             0   \n",
       "1       5008804           M            Y               Y             0   \n",
       "2       5008804           M            Y               Y             0   \n",
       "3       5008804           M            Y               Y             0   \n",
       "4       5008804           M            Y               Y             0   \n",
       "...         ...         ...          ...             ...           ...   \n",
       "777710  5150337           M            N               Y             0   \n",
       "777711  5150337           M            N               Y             0   \n",
       "777712  5150337           M            N               Y             0   \n",
       "777713  5150337           M            N               Y             0   \n",
       "777714  5150337           M            N               Y             0   \n",
       "\n",
       "        AMT_INCOME_TOTAL NAME_INCOME_TYPE            NAME_EDUCATION_TYPE  \\\n",
       "0               427500.0          Working               Higher education   \n",
       "1               427500.0          Working               Higher education   \n",
       "2               427500.0          Working               Higher education   \n",
       "3               427500.0          Working               Higher education   \n",
       "4               427500.0          Working               Higher education   \n",
       "...                  ...              ...                            ...   \n",
       "777710          112500.0          Working  Secondary / secondary special   \n",
       "777711          112500.0          Working  Secondary / secondary special   \n",
       "777712          112500.0          Working  Secondary / secondary special   \n",
       "777713          112500.0          Working  Secondary / secondary special   \n",
       "777714          112500.0          Working  Secondary / secondary special   \n",
       "\n",
       "          NAME_FAMILY_STATUS NAME_HOUSING_TYPE  DAYS_BIRTH  DAYS_EMPLOYED  \\\n",
       "0             Civil marriage  Rented apartment      -12005          -4542   \n",
       "1             Civil marriage  Rented apartment      -12005          -4542   \n",
       "2             Civil marriage  Rented apartment      -12005          -4542   \n",
       "3             Civil marriage  Rented apartment      -12005          -4542   \n",
       "4             Civil marriage  Rented apartment      -12005          -4542   \n",
       "...                      ...               ...         ...            ...   \n",
       "777710  Single / not married  Rented apartment       -9188          -1193   \n",
       "777711  Single / not married  Rented apartment       -9188          -1193   \n",
       "777712  Single / not married  Rented apartment       -9188          -1193   \n",
       "777713  Single / not married  Rented apartment       -9188          -1193   \n",
       "777714  Single / not married  Rented apartment       -9188          -1193   \n",
       "\n",
       "        FLAG_MOBIL  FLAG_WORK_PHONE  FLAG_PHONE  FLAG_EMAIL OCCUPATION_TYPE  \\\n",
       "0                1                1           0           0             NaN   \n",
       "1                1                1           0           0             NaN   \n",
       "2                1                1           0           0             NaN   \n",
       "3                1                1           0           0             NaN   \n",
       "4                1                1           0           0             NaN   \n",
       "...            ...              ...         ...         ...             ...   \n",
       "777710           1                0           0           0        Laborers   \n",
       "777711           1                0           0           0        Laborers   \n",
       "777712           1                0           0           0        Laborers   \n",
       "777713           1                0           0           0        Laborers   \n",
       "777714           1                0           0           0        Laborers   \n",
       "\n",
       "        CNT_FAM_MEMBERS  MONTHS_BALANCE STATUS  \n",
       "0                   2.0               0      C  \n",
       "1                   2.0              -1      C  \n",
       "2                   2.0              -2      C  \n",
       "3                   2.0              -3      C  \n",
       "4                   2.0              -4      C  \n",
       "...                 ...             ...    ...  \n",
       "777710              1.0              -9      0  \n",
       "777711              1.0             -10      2  \n",
       "777712              1.0             -11      1  \n",
       "777713              1.0             -12      0  \n",
       "777714              1.0             -13      0  \n",
       "\n",
       "[777715 rows x 20 columns]"
      ]
     },
     "execution_count": 3,
     "metadata": {},
     "output_type": "execute_result"
    }
   ],
   "source": [
    "df_merged = pd.merge(df, df_2, on='ID')\n",
    "df_merged"
   ]
  },
  {
   "cell_type": "code",
   "execution_count": 4,
   "metadata": {},
   "outputs": [
    {
     "data": {
      "text/plain": [
       "(777715, 20)"
      ]
     },
     "execution_count": 4,
     "metadata": {},
     "output_type": "execute_result"
    }
   ],
   "source": [
    "df_merged.shape"
   ]
  },
  {
   "cell_type": "code",
   "execution_count": 5,
   "metadata": {},
   "outputs": [
    {
     "name": "stdout",
     "output_type": "stream",
     "text": [
      "<class 'pandas.core.frame.DataFrame'>\n",
      "Int64Index: 777715 entries, 0 to 777714\n",
      "Data columns (total 20 columns):\n",
      " #   Column               Non-Null Count   Dtype  \n",
      "---  ------               --------------   -----  \n",
      " 0   ID                   777715 non-null  int64  \n",
      " 1   CODE_GENDER          777715 non-null  object \n",
      " 2   FLAG_OWN_CAR         777715 non-null  object \n",
      " 3   FLAG_OWN_REALTY      777715 non-null  object \n",
      " 4   CNT_CHILDREN         777715 non-null  int64  \n",
      " 5   AMT_INCOME_TOTAL     777715 non-null  float64\n",
      " 6   NAME_INCOME_TYPE     777715 non-null  object \n",
      " 7   NAME_EDUCATION_TYPE  777715 non-null  object \n",
      " 8   NAME_FAMILY_STATUS   777715 non-null  object \n",
      " 9   NAME_HOUSING_TYPE    777715 non-null  object \n",
      " 10  DAYS_BIRTH           777715 non-null  int64  \n",
      " 11  DAYS_EMPLOYED        777715 non-null  int64  \n",
      " 12  FLAG_MOBIL           777715 non-null  int64  \n",
      " 13  FLAG_WORK_PHONE      777715 non-null  int64  \n",
      " 14  FLAG_PHONE           777715 non-null  int64  \n",
      " 15  FLAG_EMAIL           777715 non-null  int64  \n",
      " 16  OCCUPATION_TYPE      537667 non-null  object \n",
      " 17  CNT_FAM_MEMBERS      777715 non-null  float64\n",
      " 18  MONTHS_BALANCE       777715 non-null  int64  \n",
      " 19  STATUS               777715 non-null  object \n",
      "dtypes: float64(2), int64(9), object(9)\n",
      "memory usage: 124.6+ MB\n"
     ]
    }
   ],
   "source": [
    "df_merged.info()"
   ]
  },
  {
   "attachments": {},
   "cell_type": "markdown",
   "metadata": {},
   "source": [
    "**LIMPIEZA DE DATOS**"
   ]
  },
  {
   "cell_type": "code",
   "execution_count": 6,
   "metadata": {},
   "outputs": [
    {
     "data": {
      "text/plain": [
       "ID                          0\n",
       "CODE_GENDER                 0\n",
       "FLAG_OWN_CAR                0\n",
       "FLAG_OWN_REALTY             0\n",
       "CNT_CHILDREN                0\n",
       "AMT_INCOME_TOTAL            0\n",
       "NAME_INCOME_TYPE            0\n",
       "NAME_EDUCATION_TYPE         0\n",
       "NAME_FAMILY_STATUS          0\n",
       "NAME_HOUSING_TYPE           0\n",
       "DAYS_BIRTH                  0\n",
       "DAYS_EMPLOYED               0\n",
       "FLAG_MOBIL                  0\n",
       "FLAG_WORK_PHONE             0\n",
       "FLAG_PHONE                  0\n",
       "FLAG_EMAIL                  0\n",
       "OCCUPATION_TYPE        240048\n",
       "CNT_FAM_MEMBERS             0\n",
       "MONTHS_BALANCE              0\n",
       "STATUS                      0\n",
       "dtype: int64"
      ]
     },
     "execution_count": 6,
     "metadata": {},
     "output_type": "execute_result"
    }
   ],
   "source": [
    "# Vamos a comprobar si hay valores nulos:\n",
    "df_merged.isnull().sum()"
   ]
  },
  {
   "cell_type": "code",
   "execution_count": 7,
   "metadata": {},
   "outputs": [],
   "source": [
    "#Comprobamos que la columna OCCUPATION_TYPE tiene muchos missings. Como creo que esta columna podría ser relevante,para que mi dataset \n",
    "#no quede desbalanceado voy a sustituir los NaN por 'Unknown':\n",
    "df_merged['OCCUPATION_TYPE'].fillna('unknown', inplace=True)"
   ]
  },
  {
   "cell_type": "code",
   "execution_count": 8,
   "metadata": {},
   "outputs": [
    {
     "data": {
      "text/plain": [
       "ID                     0\n",
       "CODE_GENDER            0\n",
       "FLAG_OWN_CAR           0\n",
       "FLAG_OWN_REALTY        0\n",
       "CNT_CHILDREN           0\n",
       "AMT_INCOME_TOTAL       0\n",
       "NAME_INCOME_TYPE       0\n",
       "NAME_EDUCATION_TYPE    0\n",
       "NAME_FAMILY_STATUS     0\n",
       "NAME_HOUSING_TYPE      0\n",
       "DAYS_BIRTH             0\n",
       "DAYS_EMPLOYED          0\n",
       "FLAG_MOBIL             0\n",
       "FLAG_WORK_PHONE        0\n",
       "FLAG_PHONE             0\n",
       "FLAG_EMAIL             0\n",
       "OCCUPATION_TYPE        0\n",
       "CNT_FAM_MEMBERS        0\n",
       "MONTHS_BALANCE         0\n",
       "STATUS                 0\n",
       "dtype: int64"
      ]
     },
     "execution_count": 8,
     "metadata": {},
     "output_type": "execute_result"
    }
   ],
   "source": [
    "df_merged.isnull().sum()"
   ]
  },
  {
   "cell_type": "code",
   "execution_count": 10,
   "metadata": {},
   "outputs": [],
   "source": [
    "# Vamos a transformar las variables categóricas a numéricas y renombrar algunas para facilitar su interpretación:\n"
   ]
  },
  {
   "cell_type": "code",
   "execution_count": 9,
   "metadata": {},
   "outputs": [
    {
     "data": {
      "text/plain": [
       "array(['M', 'F'], dtype=object)"
      ]
     },
     "execution_count": 9,
     "metadata": {},
     "output_type": "execute_result"
    }
   ],
   "source": [
    "df_merged['CODE_GENDER'].unique()"
   ]
  },
  {
   "cell_type": "code",
   "execution_count": 10,
   "metadata": {},
   "outputs": [],
   "source": [
    "df_merged['CODE_GENDER']=df_merged['CODE_GENDER'].replace({'M':0,'F':1})\n"
   ]
  },
  {
   "cell_type": "code",
   "execution_count": 11,
   "metadata": {},
   "outputs": [
    {
     "data": {
      "text/plain": [
       "array(['Y', 'N'], dtype=object)"
      ]
     },
     "execution_count": 11,
     "metadata": {},
     "output_type": "execute_result"
    }
   ],
   "source": [
    "df_merged['FLAG_OWN_CAR'].unique()"
   ]
  },
  {
   "cell_type": "code",
   "execution_count": 12,
   "metadata": {},
   "outputs": [],
   "source": [
    "df_merged['FLAG_OWN_CAR']=df_merged['FLAG_OWN_CAR'].replace({'N':0,'Y':1})"
   ]
  },
  {
   "cell_type": "code",
   "execution_count": 13,
   "metadata": {},
   "outputs": [
    {
     "data": {
      "text/plain": [
       "array(['Y', 'N'], dtype=object)"
      ]
     },
     "execution_count": 13,
     "metadata": {},
     "output_type": "execute_result"
    }
   ],
   "source": [
    "df_merged['FLAG_OWN_REALTY'].unique()"
   ]
  },
  {
   "cell_type": "code",
   "execution_count": 14,
   "metadata": {},
   "outputs": [],
   "source": [
    "df_merged['FLAG_OWN_REALTY']=df_merged['FLAG_OWN_REALTY'].replace({'N':0,'Y':1})"
   ]
  },
  {
   "cell_type": "code",
   "execution_count": 15,
   "metadata": {},
   "outputs": [
    {
     "data": {
      "text/plain": [
       "array(['Working', 'Commercial associate', 'Pensioner', 'State servant',\n",
       "       'Student'], dtype=object)"
      ]
     },
     "execution_count": 15,
     "metadata": {},
     "output_type": "execute_result"
    }
   ],
   "source": [
    "df_merged['NAME_INCOME_TYPE'].unique()"
   ]
  },
  {
   "cell_type": "code",
   "execution_count": 16,
   "metadata": {},
   "outputs": [],
   "source": [
    "df_merged['NAME_INCOME_TYPE']=df_merged['NAME_INCOME_TYPE'].replace({'Student':0,'Pensioner':1,'Commercial associate':2,'State servant':3,'Working':4})"
   ]
  },
  {
   "cell_type": "code",
   "execution_count": 17,
   "metadata": {},
   "outputs": [
    {
     "data": {
      "text/plain": [
       "array(['Higher education', 'Secondary / secondary special',\n",
       "       'Incomplete higher', 'Lower secondary', 'Academic degree'],\n",
       "      dtype=object)"
      ]
     },
     "execution_count": 17,
     "metadata": {},
     "output_type": "execute_result"
    }
   ],
   "source": [
    "df_merged['NAME_EDUCATION_TYPE'].unique()"
   ]
  },
  {
   "cell_type": "code",
   "execution_count": 18,
   "metadata": {},
   "outputs": [],
   "source": [
    "df_merged['NAME_EDUCATION_TYPE']=df_merged['NAME_EDUCATION_TYPE'].replace({'Lower secondary':0,'Secondary / secondary special':1,'Incomplete higher':2,'Academic degree':3,'Higher education':4})"
   ]
  },
  {
   "cell_type": "code",
   "execution_count": 19,
   "metadata": {},
   "outputs": [
    {
     "data": {
      "text/plain": [
       "array(['Civil marriage', 'Married', 'Single / not married', 'Separated',\n",
       "       'Widow'], dtype=object)"
      ]
     },
     "execution_count": 19,
     "metadata": {},
     "output_type": "execute_result"
    }
   ],
   "source": [
    "df_merged['NAME_FAMILY_STATUS'].unique()"
   ]
  },
  {
   "cell_type": "code",
   "execution_count": 20,
   "metadata": {},
   "outputs": [],
   "source": [
    "df_merged['NAME_FAMILY_STATUS']=df_merged['NAME_FAMILY_STATUS'].replace({'Civil marriage':0,'Married':0,'Single / not married':1,'Separated':2,'Widow':3})"
   ]
  },
  {
   "cell_type": "code",
   "execution_count": 21,
   "metadata": {},
   "outputs": [
    {
     "data": {
      "text/plain": [
       "array(['Rented apartment', 'House / apartment', 'Municipal apartment',\n",
       "       'With parents', 'Co-op apartment', 'Office apartment'],\n",
       "      dtype=object)"
      ]
     },
     "execution_count": 21,
     "metadata": {},
     "output_type": "execute_result"
    }
   ],
   "source": [
    "df_merged['NAME_HOUSING_TYPE'].unique()"
   ]
  },
  {
   "cell_type": "code",
   "execution_count": 22,
   "metadata": {},
   "outputs": [],
   "source": [
    "df_merged['NAME_HOUSING_TYPE']=df_merged['NAME_HOUSING_TYPE'].replace({'Rented apartment':1,'House / apartment':0,'Municipal apartment':0,'With parents':1,'Co-op apartment':0,'Office apartment':1})"
   ]
  },
  {
   "cell_type": "code",
   "execution_count": 23,
   "metadata": {},
   "outputs": [
    {
     "data": {
      "text/plain": [
       "array(['unknown', 'Security staff', 'Sales staff', 'Accountants',\n",
       "       'Laborers', 'Managers', 'Drivers', 'Core staff',\n",
       "       'High skill tech staff', 'Cleaning staff', 'Private service staff',\n",
       "       'Cooking staff', 'Low-skill Laborers', 'Medicine staff',\n",
       "       'Secretaries', 'Waiters/barmen staff', 'HR staff', 'Realty agents',\n",
       "       'IT staff'], dtype=object)"
      ]
     },
     "execution_count": 23,
     "metadata": {},
     "output_type": "execute_result"
    }
   ],
   "source": [
    "df_merged['OCCUPATION_TYPE'].unique()"
   ]
  },
  {
   "cell_type": "code",
   "execution_count": 24,
   "metadata": {},
   "outputs": [],
   "source": [
    "\n",
    "df_merged['OCCUPATION_TYPE'] = df_merged['OCCUPATION_TYPE'].replace({\n",
    "    'unknown': 0,\n",
    "    'Waiters/barmen staff': 1,\n",
    "    'Cooking staff': 1,\n",
    "    'Security staff': 1,\n",
    "    'Cleaning staff': 1,\n",
    "    'Low-skill Laborers': 1,\n",
    "    'Laborers': 1,\n",
    "    'Realty agents': 2,\n",
    "    'Secretaries': 2,\n",
    "    'Private service staff': 2,\n",
    "    'Drivers': 2,\n",
    "    'Sales staff': 2,\n",
    "    'Medicine staff': 3,\n",
    "    'IT staff': 3,\n",
    "    'Accountants': 3,\n",
    "    'HR staff': 3,\n",
    "    'Managers':4,\n",
    "    'Core staff': 4,\n",
    "    'High skill tech staff': 4\n",
    "})"
   ]
  },
  {
   "cell_type": "code",
   "execution_count": 25,
   "metadata": {},
   "outputs": [
    {
     "data": {
      "text/plain": [
       "array(['C', '1', '0', 'X', '5', '4', '3', '2'], dtype=object)"
      ]
     },
     "execution_count": 25,
     "metadata": {},
     "output_type": "execute_result"
    }
   ],
   "source": [
    "df_merged['STATUS'].unique()"
   ]
  },
  {
   "cell_type": "code",
   "execution_count": 26,
   "metadata": {},
   "outputs": [],
   "source": [
    "df_merged['STATUS']=df_merged['STATUS'].replace({'0':0,'1':0,'2':0,'3':0,'4':0,'5':0,'C':1,'X':1})"
   ]
  },
  {
   "cell_type": "code",
   "execution_count": 27,
   "metadata": {},
   "outputs": [
    {
     "data": {
      "text/plain": [
       "0"
      ]
     },
     "execution_count": 27,
     "metadata": {},
     "output_type": "execute_result"
    }
   ],
   "source": [
    "#Comprobaremos si hay duplicados:\n",
    "df_merged.duplicated().sum()"
   ]
  },
  {
   "cell_type": "code",
   "execution_count": 28,
   "metadata": {},
   "outputs": [
    {
     "data": {
      "text/plain": [
       "0         False\n",
       "1         False\n",
       "2         False\n",
       "3         False\n",
       "4         False\n",
       "          ...  \n",
       "438552    False\n",
       "438553    False\n",
       "438554    False\n",
       "438555    False\n",
       "438556    False\n",
       "Name: ID, Length: 438557, dtype: bool"
      ]
     },
     "execution_count": 28,
     "metadata": {},
     "output_type": "execute_result"
    }
   ],
   "source": [
    "df['ID'].duplicated()"
   ]
  },
  {
   "cell_type": "code",
   "execution_count": 29,
   "metadata": {},
   "outputs": [],
   "source": [
    "#Pasamos a años la columna DAYS_BIRTH:\n",
    "df_merged['EDAD']=-(df_merged['DAYS_BIRTH'])//365\t"
   ]
  },
  {
   "cell_type": "code",
   "execution_count": 30,
   "metadata": {},
   "outputs": [],
   "source": [
    "#Pasamos a años la columna DAYS_EMPLOYED:\n",
    "df_merged['VIDA_LABORAL']=-(df_merged['DAYS_EMPLOYED'])//365"
   ]
  },
  {
   "cell_type": "code",
   "execution_count": 31,
   "metadata": {},
   "outputs": [],
   "source": [
    "#Vamos a renombrar columnas para facilitar su interpretación:\n",
    "df_merged.rename(columns={'CODE_GENDER':'GENERO','FLAG_OWN_CAR':'COCHE','FLAG_OWN_REALTY':'PROPIEDAD','CNT_CHILDREN':'HIJOS','AMT_INCOME_TOTAL':'ING_ANUAL','NAME_INCOME_TYPE':'TIPO_ING','NAME_EDUCATION_TYPE':'EDUCACION','NAME_FAMILY_STATUS':'EST_CIVIL','NAME_HOUSING_TYPE':'TIPO_VIVIENDA','DAYS_BIRTH':'EDAD','DAYS_EMPLOYED':'VIDA_LABORAL','FLAG_MOBIL':'MOVIL','FLAG_WORK_PHONE':'TELEF_TRABAJO','FLAG_PHONE':'TELEF_FIJO','FLAG_EMAIL':'MAIL','OCCUPATION_TYPE':'OCUPACION','CNT_FAM_MEMBERS':'TAM_FAMILIA','MONTHS_BALANCE':'ESTADO_MES'},inplace=True)\n"
   ]
  },
  {
   "cell_type": "code",
   "execution_count": 32,
   "metadata": {},
   "outputs": [
    {
     "data": {
      "text/html": [
       "<div>\n",
       "<style scoped>\n",
       "    .dataframe tbody tr th:only-of-type {\n",
       "        vertical-align: middle;\n",
       "    }\n",
       "\n",
       "    .dataframe tbody tr th {\n",
       "        vertical-align: top;\n",
       "    }\n",
       "\n",
       "    .dataframe thead th {\n",
       "        text-align: right;\n",
       "    }\n",
       "</style>\n",
       "<table border=\"1\" class=\"dataframe\">\n",
       "  <thead>\n",
       "    <tr style=\"text-align: right;\">\n",
       "      <th></th>\n",
       "      <th>ID</th>\n",
       "      <th>GENERO</th>\n",
       "      <th>COCHE</th>\n",
       "      <th>PROPIEDAD</th>\n",
       "      <th>HIJOS</th>\n",
       "      <th>ING_ANUAL</th>\n",
       "      <th>TIPO_ING</th>\n",
       "      <th>EDUCACION</th>\n",
       "      <th>EST_CIVIL</th>\n",
       "      <th>TIPO_VIVIENDA</th>\n",
       "      <th>...</th>\n",
       "      <th>MOVIL</th>\n",
       "      <th>TELEF_TRABAJO</th>\n",
       "      <th>TELEF_FIJO</th>\n",
       "      <th>MAIL</th>\n",
       "      <th>OCUPACION</th>\n",
       "      <th>TAM_FAMILIA</th>\n",
       "      <th>ESTADO_MES</th>\n",
       "      <th>STATUS</th>\n",
       "      <th>EDAD</th>\n",
       "      <th>VIDA_LABORAL</th>\n",
       "    </tr>\n",
       "  </thead>\n",
       "  <tbody>\n",
       "    <tr>\n",
       "      <th>0</th>\n",
       "      <td>5008804</td>\n",
       "      <td>0</td>\n",
       "      <td>1</td>\n",
       "      <td>1</td>\n",
       "      <td>0</td>\n",
       "      <td>427500.0</td>\n",
       "      <td>4</td>\n",
       "      <td>4</td>\n",
       "      <td>0</td>\n",
       "      <td>1</td>\n",
       "      <td>...</td>\n",
       "      <td>1</td>\n",
       "      <td>1</td>\n",
       "      <td>0</td>\n",
       "      <td>0</td>\n",
       "      <td>0</td>\n",
       "      <td>2.0</td>\n",
       "      <td>0</td>\n",
       "      <td>1</td>\n",
       "      <td>32</td>\n",
       "      <td>12</td>\n",
       "    </tr>\n",
       "    <tr>\n",
       "      <th>1</th>\n",
       "      <td>5008804</td>\n",
       "      <td>0</td>\n",
       "      <td>1</td>\n",
       "      <td>1</td>\n",
       "      <td>0</td>\n",
       "      <td>427500.0</td>\n",
       "      <td>4</td>\n",
       "      <td>4</td>\n",
       "      <td>0</td>\n",
       "      <td>1</td>\n",
       "      <td>...</td>\n",
       "      <td>1</td>\n",
       "      <td>1</td>\n",
       "      <td>0</td>\n",
       "      <td>0</td>\n",
       "      <td>0</td>\n",
       "      <td>2.0</td>\n",
       "      <td>-1</td>\n",
       "      <td>1</td>\n",
       "      <td>32</td>\n",
       "      <td>12</td>\n",
       "    </tr>\n",
       "    <tr>\n",
       "      <th>2</th>\n",
       "      <td>5008804</td>\n",
       "      <td>0</td>\n",
       "      <td>1</td>\n",
       "      <td>1</td>\n",
       "      <td>0</td>\n",
       "      <td>427500.0</td>\n",
       "      <td>4</td>\n",
       "      <td>4</td>\n",
       "      <td>0</td>\n",
       "      <td>1</td>\n",
       "      <td>...</td>\n",
       "      <td>1</td>\n",
       "      <td>1</td>\n",
       "      <td>0</td>\n",
       "      <td>0</td>\n",
       "      <td>0</td>\n",
       "      <td>2.0</td>\n",
       "      <td>-2</td>\n",
       "      <td>1</td>\n",
       "      <td>32</td>\n",
       "      <td>12</td>\n",
       "    </tr>\n",
       "    <tr>\n",
       "      <th>3</th>\n",
       "      <td>5008804</td>\n",
       "      <td>0</td>\n",
       "      <td>1</td>\n",
       "      <td>1</td>\n",
       "      <td>0</td>\n",
       "      <td>427500.0</td>\n",
       "      <td>4</td>\n",
       "      <td>4</td>\n",
       "      <td>0</td>\n",
       "      <td>1</td>\n",
       "      <td>...</td>\n",
       "      <td>1</td>\n",
       "      <td>1</td>\n",
       "      <td>0</td>\n",
       "      <td>0</td>\n",
       "      <td>0</td>\n",
       "      <td>2.0</td>\n",
       "      <td>-3</td>\n",
       "      <td>1</td>\n",
       "      <td>32</td>\n",
       "      <td>12</td>\n",
       "    </tr>\n",
       "    <tr>\n",
       "      <th>4</th>\n",
       "      <td>5008804</td>\n",
       "      <td>0</td>\n",
       "      <td>1</td>\n",
       "      <td>1</td>\n",
       "      <td>0</td>\n",
       "      <td>427500.0</td>\n",
       "      <td>4</td>\n",
       "      <td>4</td>\n",
       "      <td>0</td>\n",
       "      <td>1</td>\n",
       "      <td>...</td>\n",
       "      <td>1</td>\n",
       "      <td>1</td>\n",
       "      <td>0</td>\n",
       "      <td>0</td>\n",
       "      <td>0</td>\n",
       "      <td>2.0</td>\n",
       "      <td>-4</td>\n",
       "      <td>1</td>\n",
       "      <td>32</td>\n",
       "      <td>12</td>\n",
       "    </tr>\n",
       "    <tr>\n",
       "      <th>...</th>\n",
       "      <td>...</td>\n",
       "      <td>...</td>\n",
       "      <td>...</td>\n",
       "      <td>...</td>\n",
       "      <td>...</td>\n",
       "      <td>...</td>\n",
       "      <td>...</td>\n",
       "      <td>...</td>\n",
       "      <td>...</td>\n",
       "      <td>...</td>\n",
       "      <td>...</td>\n",
       "      <td>...</td>\n",
       "      <td>...</td>\n",
       "      <td>...</td>\n",
       "      <td>...</td>\n",
       "      <td>...</td>\n",
       "      <td>...</td>\n",
       "      <td>...</td>\n",
       "      <td>...</td>\n",
       "      <td>...</td>\n",
       "      <td>...</td>\n",
       "    </tr>\n",
       "    <tr>\n",
       "      <th>777710</th>\n",
       "      <td>5150337</td>\n",
       "      <td>0</td>\n",
       "      <td>0</td>\n",
       "      <td>1</td>\n",
       "      <td>0</td>\n",
       "      <td>112500.0</td>\n",
       "      <td>4</td>\n",
       "      <td>1</td>\n",
       "      <td>1</td>\n",
       "      <td>1</td>\n",
       "      <td>...</td>\n",
       "      <td>1</td>\n",
       "      <td>0</td>\n",
       "      <td>0</td>\n",
       "      <td>0</td>\n",
       "      <td>1</td>\n",
       "      <td>1.0</td>\n",
       "      <td>-9</td>\n",
       "      <td>0</td>\n",
       "      <td>25</td>\n",
       "      <td>3</td>\n",
       "    </tr>\n",
       "    <tr>\n",
       "      <th>777711</th>\n",
       "      <td>5150337</td>\n",
       "      <td>0</td>\n",
       "      <td>0</td>\n",
       "      <td>1</td>\n",
       "      <td>0</td>\n",
       "      <td>112500.0</td>\n",
       "      <td>4</td>\n",
       "      <td>1</td>\n",
       "      <td>1</td>\n",
       "      <td>1</td>\n",
       "      <td>...</td>\n",
       "      <td>1</td>\n",
       "      <td>0</td>\n",
       "      <td>0</td>\n",
       "      <td>0</td>\n",
       "      <td>1</td>\n",
       "      <td>1.0</td>\n",
       "      <td>-10</td>\n",
       "      <td>0</td>\n",
       "      <td>25</td>\n",
       "      <td>3</td>\n",
       "    </tr>\n",
       "    <tr>\n",
       "      <th>777712</th>\n",
       "      <td>5150337</td>\n",
       "      <td>0</td>\n",
       "      <td>0</td>\n",
       "      <td>1</td>\n",
       "      <td>0</td>\n",
       "      <td>112500.0</td>\n",
       "      <td>4</td>\n",
       "      <td>1</td>\n",
       "      <td>1</td>\n",
       "      <td>1</td>\n",
       "      <td>...</td>\n",
       "      <td>1</td>\n",
       "      <td>0</td>\n",
       "      <td>0</td>\n",
       "      <td>0</td>\n",
       "      <td>1</td>\n",
       "      <td>1.0</td>\n",
       "      <td>-11</td>\n",
       "      <td>0</td>\n",
       "      <td>25</td>\n",
       "      <td>3</td>\n",
       "    </tr>\n",
       "    <tr>\n",
       "      <th>777713</th>\n",
       "      <td>5150337</td>\n",
       "      <td>0</td>\n",
       "      <td>0</td>\n",
       "      <td>1</td>\n",
       "      <td>0</td>\n",
       "      <td>112500.0</td>\n",
       "      <td>4</td>\n",
       "      <td>1</td>\n",
       "      <td>1</td>\n",
       "      <td>1</td>\n",
       "      <td>...</td>\n",
       "      <td>1</td>\n",
       "      <td>0</td>\n",
       "      <td>0</td>\n",
       "      <td>0</td>\n",
       "      <td>1</td>\n",
       "      <td>1.0</td>\n",
       "      <td>-12</td>\n",
       "      <td>0</td>\n",
       "      <td>25</td>\n",
       "      <td>3</td>\n",
       "    </tr>\n",
       "    <tr>\n",
       "      <th>777714</th>\n",
       "      <td>5150337</td>\n",
       "      <td>0</td>\n",
       "      <td>0</td>\n",
       "      <td>1</td>\n",
       "      <td>0</td>\n",
       "      <td>112500.0</td>\n",
       "      <td>4</td>\n",
       "      <td>1</td>\n",
       "      <td>1</td>\n",
       "      <td>1</td>\n",
       "      <td>...</td>\n",
       "      <td>1</td>\n",
       "      <td>0</td>\n",
       "      <td>0</td>\n",
       "      <td>0</td>\n",
       "      <td>1</td>\n",
       "      <td>1.0</td>\n",
       "      <td>-13</td>\n",
       "      <td>0</td>\n",
       "      <td>25</td>\n",
       "      <td>3</td>\n",
       "    </tr>\n",
       "  </tbody>\n",
       "</table>\n",
       "<p>777715 rows × 22 columns</p>\n",
       "</div>"
      ],
      "text/plain": [
       "             ID  GENERO  COCHE  PROPIEDAD  HIJOS  ING_ANUAL  TIPO_ING  \\\n",
       "0       5008804       0      1          1      0   427500.0         4   \n",
       "1       5008804       0      1          1      0   427500.0         4   \n",
       "2       5008804       0      1          1      0   427500.0         4   \n",
       "3       5008804       0      1          1      0   427500.0         4   \n",
       "4       5008804       0      1          1      0   427500.0         4   \n",
       "...         ...     ...    ...        ...    ...        ...       ...   \n",
       "777710  5150337       0      0          1      0   112500.0         4   \n",
       "777711  5150337       0      0          1      0   112500.0         4   \n",
       "777712  5150337       0      0          1      0   112500.0         4   \n",
       "777713  5150337       0      0          1      0   112500.0         4   \n",
       "777714  5150337       0      0          1      0   112500.0         4   \n",
       "\n",
       "        EDUCACION  EST_CIVIL  TIPO_VIVIENDA  ...  MOVIL  TELEF_TRABAJO  \\\n",
       "0               4          0              1  ...      1              1   \n",
       "1               4          0              1  ...      1              1   \n",
       "2               4          0              1  ...      1              1   \n",
       "3               4          0              1  ...      1              1   \n",
       "4               4          0              1  ...      1              1   \n",
       "...           ...        ...            ...  ...    ...            ...   \n",
       "777710          1          1              1  ...      1              0   \n",
       "777711          1          1              1  ...      1              0   \n",
       "777712          1          1              1  ...      1              0   \n",
       "777713          1          1              1  ...      1              0   \n",
       "777714          1          1              1  ...      1              0   \n",
       "\n",
       "        TELEF_FIJO  MAIL  OCUPACION  TAM_FAMILIA  ESTADO_MES  STATUS  EDAD  \\\n",
       "0                0     0          0          2.0           0       1    32   \n",
       "1                0     0          0          2.0          -1       1    32   \n",
       "2                0     0          0          2.0          -2       1    32   \n",
       "3                0     0          0          2.0          -3       1    32   \n",
       "4                0     0          0          2.0          -4       1    32   \n",
       "...            ...   ...        ...          ...         ...     ...   ...   \n",
       "777710           0     0          1          1.0          -9       0    25   \n",
       "777711           0     0          1          1.0         -10       0    25   \n",
       "777712           0     0          1          1.0         -11       0    25   \n",
       "777713           0     0          1          1.0         -12       0    25   \n",
       "777714           0     0          1          1.0         -13       0    25   \n",
       "\n",
       "        VIDA_LABORAL  \n",
       "0                 12  \n",
       "1                 12  \n",
       "2                 12  \n",
       "3                 12  \n",
       "4                 12  \n",
       "...              ...  \n",
       "777710             3  \n",
       "777711             3  \n",
       "777712             3  \n",
       "777713             3  \n",
       "777714             3  \n",
       "\n",
       "[777715 rows x 22 columns]"
      ]
     },
     "execution_count": 32,
     "metadata": {},
     "output_type": "execute_result"
    }
   ],
   "source": [
    "df_merged"
   ]
  },
  {
   "cell_type": "code",
   "execution_count": 33,
   "metadata": {},
   "outputs": [
    {
     "data": {
      "text/plain": [
       "(777715, 22)"
      ]
     },
     "execution_count": 33,
     "metadata": {},
     "output_type": "execute_result"
    }
   ],
   "source": [
    "df_merged.shape"
   ]
  },
  {
   "cell_type": "code",
   "execution_count": 34,
   "metadata": {},
   "outputs": [],
   "source": [
    "# Como nuestro target('STATUS') está desbalanceado y es posible que nos dé problemas a la hora de generar los modelos,lo balancearemos\n",
    "# con la técnica under-sampling:"
   ]
  },
  {
   "cell_type": "code",
   "execution_count": 35,
   "metadata": {},
   "outputs": [
    {
     "data": {
      "image/png": "[encoded data removed]",
      "text/plain": [
       "<Figure size 640x480 with 1 Axes>"
      ]
     },
     "metadata": {},
     "output_type": "display_data"
    }
   ],
   "source": [
    "import seaborn as sns\n",
    "import matplotlib.pyplot as plt\n",
    "df_merged['STATUS'].value_counts().plot.pie(explode=[0.1,0.1],autopct='%1.1f%%',shadow=True, colors=['#FF5E5B', '#C0E680'],textprops = {'fontsize':7}).set_title(\"Target distribution\")\n",
    "\n",
    "plt.show()"
   ]
  },
  {
   "cell_type": "code",
   "execution_count": 36,
   "metadata": {},
   "outputs": [],
   "source": [
    "# Utilizaremos el método \"Under-Sampling\" para balancear el conjunto de datos.\n",
    "import numpy as np\n",
    "\n",
    "# Primero identificaremos la cantidad de muestras de cada clase.\n",
    "num_0 = len(df_merged[df_merged['STATUS']==0])\n",
    "num_1 = len(df_merged[df_merged['STATUS']==1])\n",
    "\n",
    "# El número de muestras de la clase minoritaria será igual al número de muestras de la clase mayoritaria.\n",
    "num_samples = min(num_0, num_1)\n",
    "\n",
    "# Obtendremos los índices de muestras de cada clase.\n",
    "indices_0 = df_merged[df_merged['STATUS']==0].index\n",
    "indices_1 = df_merged[df_merged['STATUS']==1].index\n",
    "\n",
    "# Generaremos índices aleatorios para cada clase.\n",
    "random_indices_0 = np.random.choice(indices_0, num_samples, replace=False)\n",
    "random_indices_1 = np.random.choice(indices_1, num_samples, replace=False)\n",
    "\n",
    "# Generaremos un índice combinado para ambas clases.\n",
    "under_sample_indices = np.concatenate([random_indices_0, random_indices_1])\n",
    "\n",
    "# Ahora seleccionaremos los registros con los índices generados anteriormente.\n",
    "under_sample_df = df_merged.loc[under_sample_indices]\n",
    "\n",
    "# Finalmente balanceamos el conjunto de datos\n",
    "under_sample_df = under_sample_df.sample(frac=1).reset_index(drop=True)"
   ]
  },
  {
   "cell_type": "code",
   "execution_count": 37,
   "metadata": {},
   "outputs": [
    {
     "data": {
      "text/plain": [
       "(604458, 22)"
      ]
     },
     "execution_count": 37,
     "metadata": {},
     "output_type": "execute_result"
    }
   ],
   "source": [
    "under_sample_df.shape"
   ]
  },
  {
   "cell_type": "code",
   "execution_count": 38,
   "metadata": {},
   "outputs": [
    {
     "data": {
      "image/png": "[encoded data removed]",
      "text/plain": [
       "<Figure size 640x480 with 1 Axes>"
      ]
     },
     "metadata": {},
     "output_type": "display_data"
    }
   ],
   "source": [
    "under_sample_df['STATUS'].value_counts().plot.pie(explode=[0.1,0.1],autopct='%1.1f%%',shadow=True, colors=['#FF5E5B', '#C0E680'],textprops = {'fontsize':7}).set_title(\"Target distribution\")\n",
    "\n",
    "plt.show()"
   ]
  },
  {
   "attachments": {},
   "cell_type": "markdown",
   "metadata": {},
   "source": [
    "**VISUALIZACIÓN**"
   ]
  },
  {
   "cell_type": "code",
   "execution_count": 39,
   "metadata": {},
   "outputs": [
    {
     "data": {
      "image/png": "[encoded data removed]",
      "text/plain": [
       "<Figure size 640x480 with 1 Axes>"
      ]
     },
     "metadata": {},
     "output_type": "display_data"
    }
   ],
   "source": [
    "import seaborn as sns\n",
    "import matplotlib.pyplot as plt\n",
    "\n",
    "#Gráfica de barras para mostrar la distribución de los datos por género:\n",
    "sns.countplot(x='GENERO',data=under_sample_df)\n",
    "plt.show()"
   ]
  },
  {
   "cell_type": "code",
   "execution_count": 40,
   "metadata": {},
   "outputs": [
    {
     "data": {
      "image/png": "[encoded data removed]",
      "text/plain": [
       "<Figure size 640x480 with 1 Axes>"
      ]
     },
     "metadata": {},
     "output_type": "display_data"
    }
   ],
   "source": [
    "#Gráfica de barras para mostrar la distribución de los datos por estado civil:\n",
    "sns.countplot(x='EST_CIVIL',data=under_sample_df)\n",
    "plt.show()"
   ]
  },
  {
   "cell_type": "code",
   "execution_count": 41,
   "metadata": {},
   "outputs": [
    {
     "data": {
      "image/png": "[encoded data removed]",
      "text/plain": [
       "<Figure size 640x480 with 1 Axes>"
      ]
     },
     "metadata": {},
     "output_type": "display_data"
    }
   ],
   "source": [
    "#Gráfica de barras para mostrar la distribución de los datos por tipo de educación:\n",
    "sns.countplot(x='EDUCACION',data=under_sample_df)\n",
    "plt.show()"
   ]
  },
  {
   "cell_type": "code",
   "execution_count": 42,
   "metadata": {},
   "outputs": [
    {
     "data": {
      "image/png": "[encoded data removed]",
      "text/plain": [
       "<Figure size 640x480 with 1 Axes>"
      ]
     },
     "metadata": {},
     "output_type": "display_data"
    }
   ],
   "source": [
    "#Gráfica de barras para mostrar la distribución de los datos por ocupación:\n",
    "sns.countplot(x='OCUPACION',data=under_sample_df)\n",
    "plt.show()"
   ]
  },
  {
   "cell_type": "code",
   "execution_count": 43,
   "metadata": {},
   "outputs": [
    {
     "data": {
      "image/png": "[encoded data removed]",
      "text/plain": [
       "<Figure size 640x480 with 1 Axes>"
      ]
     },
     "metadata": {},
     "output_type": "display_data"
    }
   ],
   "source": [
    "#Gráfica de barras para mostrar la distribución de los datos por tamaño de familia:\n",
    "sns.countplot(x='TAM_FAMILIA',data=under_sample_df)\n",
    "plt.show()"
   ]
  },
  {
   "cell_type": "code",
   "execution_count": 44,
   "metadata": {},
   "outputs": [
    {
     "data": {
      "image/png": "[encoded data removed]",
      "text/plain": [
       "<Figure size 640x480 with 1 Axes>"
      ]
     },
     "metadata": {},
     "output_type": "display_data"
    }
   ],
   "source": [
    "#Gráfica de barras para mostrar la distribución de los datos por número de hijos:\n",
    "sns.countplot(x='HIJOS',data=under_sample_df)\n",
    "plt.show()"
   ]
  },
  {
   "cell_type": "code",
   "execution_count": 45,
   "metadata": {},
   "outputs": [
    {
     "data": {
      "image/png": "[encoded data removed]",
      "text/plain": [
       "<Figure size 640x480 with 1 Axes>"
      ]
     },
     "metadata": {},
     "output_type": "display_data"
    }
   ],
   "source": [
    "#Gráfica de barras apiladas para mostrar la distribución de los datos de varias variables:\n",
    "sns.barplot(x='GENERO',y='ING_ANUAL',hue='OCUPACION',data=under_sample_df)\n",
    "plt.show()"
   ]
  },
  {
   "cell_type": "code",
   "execution_count": 46,
   "metadata": {},
   "outputs": [
    {
     "data": {
      "image/png": "[encoded data removed]",
      "text/plain": [
       "<Figure size 640x480 with 1 Axes>"
      ]
     },
     "metadata": {},
     "output_type": "display_data"
    }
   ],
   "source": [
    "#Gráfica de barras para mostrar la distribución de los datos por tipo de ingresos:\n",
    "sns.countplot(x='TIPO_ING',data=under_sample_df)\n",
    "plt.show()"
   ]
  },
  {
   "cell_type": "code",
   "execution_count": 47,
   "metadata": {},
   "outputs": [
    {
     "data": {
      "image/png": "[encoded data removed]",
      "text/plain": [
       "<Figure size 640x480 with 1 Axes>"
      ]
     },
     "metadata": {},
     "output_type": "display_data"
    }
   ],
   "source": [
    "#Gráfica de barras para mostrar la distribución de los datos por status:\n",
    "sns.countplot(x='STATUS',data=under_sample_df)\n",
    "plt.show()"
   ]
  },
  {
   "cell_type": "code",
   "execution_count": 49,
   "metadata": {},
   "outputs": [
    {
     "data": {
      "text/html": [
       "<div>\n",
       "<style scoped>\n",
       "    .dataframe tbody tr th:only-of-type {\n",
       "        vertical-align: middle;\n",
       "    }\n",
       "\n",
       "    .dataframe tbody tr th {\n",
       "        vertical-align: top;\n",
       "    }\n",
       "\n",
       "    .dataframe thead th {\n",
       "        text-align: right;\n",
       "    }\n",
       "</style>\n",
       "<table border=\"1\" class=\"dataframe\">\n",
       "  <thead>\n",
       "    <tr style=\"text-align: right;\">\n",
       "      <th></th>\n",
       "      <th>ID</th>\n",
       "      <th>GENERO</th>\n",
       "      <th>COCHE</th>\n",
       "      <th>PROPIEDAD</th>\n",
       "      <th>HIJOS</th>\n",
       "      <th>ING_ANUAL</th>\n",
       "      <th>TIPO_ING</th>\n",
       "      <th>EDUCACION</th>\n",
       "      <th>EST_CIVIL</th>\n",
       "      <th>TIPO_VIVIENDA</th>\n",
       "      <th>...</th>\n",
       "      <th>MOVIL</th>\n",
       "      <th>TELEF_TRABAJO</th>\n",
       "      <th>TELEF_FIJO</th>\n",
       "      <th>MAIL</th>\n",
       "      <th>OCUPACION</th>\n",
       "      <th>TAM_FAMILIA</th>\n",
       "      <th>ESTADO_MES</th>\n",
       "      <th>STATUS</th>\n",
       "      <th>EDAD</th>\n",
       "      <th>VIDA_LABORAL</th>\n",
       "    </tr>\n",
       "  </thead>\n",
       "  <tbody>\n",
       "    <tr>\n",
       "      <th>ID</th>\n",
       "      <td>1.000000</td>\n",
       "      <td>-0.009999</td>\n",
       "      <td>-0.010044</td>\n",
       "      <td>-0.095454</td>\n",
       "      <td>0.027466</td>\n",
       "      <td>-0.026216</td>\n",
       "      <td>0.030663</td>\n",
       "      <td>0.001945</td>\n",
       "      <td>-0.025653</td>\n",
       "      <td>0.018888</td>\n",
       "      <td>...</td>\n",
       "      <td>NaN</td>\n",
       "      <td>0.083637</td>\n",
       "      <td>0.007849</td>\n",
       "      <td>-0.055121</td>\n",
       "      <td>0.010584</td>\n",
       "      <td>0.027048</td>\n",
       "      <td>0.005318</td>\n",
       "      <td>0.014276</td>\n",
       "      <td>-0.041049</td>\n",
       "      <td>0.026093</td>\n",
       "    </tr>\n",
       "    <tr>\n",
       "      <th>GENERO</th>\n",
       "      <td>-0.009999</td>\n",
       "      <td>1.000000</td>\n",
       "      <td>-0.366813</td>\n",
       "      <td>0.055300</td>\n",
       "      <td>-0.103097</td>\n",
       "      <td>-0.205622</td>\n",
       "      <td>-0.158871</td>\n",
       "      <td>0.008813</td>\n",
       "      <td>0.153034</td>\n",
       "      <td>-0.077405</td>\n",
       "      <td>...</td>\n",
       "      <td>NaN</td>\n",
       "      <td>-0.057570</td>\n",
       "      <td>0.026768</td>\n",
       "      <td>0.011660</td>\n",
       "      <td>-0.000235</td>\n",
       "      <td>-0.138096</td>\n",
       "      <td>-0.014672</td>\n",
       "      <td>-0.002992</td>\n",
       "      <td>0.202082</td>\n",
       "      <td>-0.173217</td>\n",
       "    </tr>\n",
       "    <tr>\n",
       "      <th>COCHE</th>\n",
       "      <td>-0.010044</td>\n",
       "      <td>-0.366813</td>\n",
       "      <td>1.000000</td>\n",
       "      <td>-0.016590</td>\n",
       "      <td>0.109441</td>\n",
       "      <td>0.218903</td>\n",
       "      <td>0.111422</td>\n",
       "      <td>0.102896</td>\n",
       "      <td>-0.146395</td>\n",
       "      <td>0.023271</td>\n",
       "      <td>...</td>\n",
       "      <td>NaN</td>\n",
       "      <td>0.018279</td>\n",
       "      <td>-0.014831</td>\n",
       "      <td>0.027585</td>\n",
       "      <td>0.121723</td>\n",
       "      <td>0.156220</td>\n",
       "      <td>-0.002628</td>\n",
       "      <td>-0.001593</td>\n",
       "      <td>-0.160798</td>\n",
       "      <td>0.155882</td>\n",
       "    </tr>\n",
       "    <tr>\n",
       "      <th>PROPIEDAD</th>\n",
       "      <td>-0.095454</td>\n",
       "      <td>0.055300</td>\n",
       "      <td>-0.016590</td>\n",
       "      <td>1.000000</td>\n",
       "      <td>-0.011257</td>\n",
       "      <td>0.037646</td>\n",
       "      <td>-0.077579</td>\n",
       "      <td>-0.009943</td>\n",
       "      <td>0.016104</td>\n",
       "      <td>-0.155523</td>\n",
       "      <td>...</td>\n",
       "      <td>NaN</td>\n",
       "      <td>-0.208964</td>\n",
       "      <td>-0.063042</td>\n",
       "      <td>0.053311</td>\n",
       "      <td>-0.028513</td>\n",
       "      <td>-0.013747</td>\n",
       "      <td>-0.008810</td>\n",
       "      <td>-0.001456</td>\n",
       "      <td>0.130121</td>\n",
       "      <td>-0.091928</td>\n",
       "    </tr>\n",
       "    <tr>\n",
       "      <th>HIJOS</th>\n",
       "      <td>0.027466</td>\n",
       "      <td>-0.103097</td>\n",
       "      <td>0.109441</td>\n",
       "      <td>-0.011257</td>\n",
       "      <td>1.000000</td>\n",
       "      <td>0.038632</td>\n",
       "      <td>0.187663</td>\n",
       "      <td>0.047280</td>\n",
       "      <td>-0.137122</td>\n",
       "      <td>0.032821</td>\n",
       "      <td>...</td>\n",
       "      <td>NaN</td>\n",
       "      <td>0.042205</td>\n",
       "      <td>-0.018356</td>\n",
       "      <td>0.014814</td>\n",
       "      <td>0.142365</td>\n",
       "      <td>0.892632</td>\n",
       "      <td>0.000198</td>\n",
       "      <td>-0.003432</td>\n",
       "      <td>-0.351747</td>\n",
       "      <td>0.227369</td>\n",
       "    </tr>\n",
       "    <tr>\n",
       "      <th>ING_ANUAL</th>\n",
       "      <td>-0.026216</td>\n",
       "      <td>-0.205622</td>\n",
       "      <td>0.218903</td>\n",
       "      <td>0.037646</td>\n",
       "      <td>0.038632</td>\n",
       "      <td>1.000000</td>\n",
       "      <td>0.033194</td>\n",
       "      <td>0.235031</td>\n",
       "      <td>-0.012479</td>\n",
       "      <td>0.009687</td>\n",
       "      <td>...</td>\n",
       "      <td>NaN</td>\n",
       "      <td>-0.023541</td>\n",
       "      <td>0.020312</td>\n",
       "      <td>0.089182</td>\n",
       "      <td>0.211009</td>\n",
       "      <td>0.030111</td>\n",
       "      <td>0.002049</td>\n",
       "      <td>-0.017886</td>\n",
       "      <td>-0.079531</td>\n",
       "      <td>0.178719</td>\n",
       "    </tr>\n",
       "    <tr>\n",
       "      <th>TIPO_ING</th>\n",
       "      <td>0.030663</td>\n",
       "      <td>-0.158871</td>\n",
       "      <td>0.111422</td>\n",
       "      <td>-0.077579</td>\n",
       "      <td>0.187663</td>\n",
       "      <td>0.033194</td>\n",
       "      <td>1.000000</td>\n",
       "      <td>0.003060</td>\n",
       "      <td>-0.107820</td>\n",
       "      <td>0.072620</td>\n",
       "      <td>...</td>\n",
       "      <td>NaN</td>\n",
       "      <td>0.225634</td>\n",
       "      <td>0.010887</td>\n",
       "      <td>0.022961</td>\n",
       "      <td>0.304947</td>\n",
       "      <td>0.186776</td>\n",
       "      <td>0.000628</td>\n",
       "      <td>0.003391</td>\n",
       "      <td>-0.431938</td>\n",
       "      <td>0.726970</td>\n",
       "    </tr>\n",
       "    <tr>\n",
       "      <th>EDUCACION</th>\n",
       "      <td>0.001945</td>\n",
       "      <td>0.008813</td>\n",
       "      <td>0.102896</td>\n",
       "      <td>-0.009943</td>\n",
       "      <td>0.047280</td>\n",
       "      <td>0.235031</td>\n",
       "      <td>0.003060</td>\n",
       "      <td>1.000000</td>\n",
       "      <td>-0.022094</td>\n",
       "      <td>0.025068</td>\n",
       "      <td>...</td>\n",
       "      <td>NaN</td>\n",
       "      <td>0.014609</td>\n",
       "      <td>0.040124</td>\n",
       "      <td>0.098353</td>\n",
       "      <td>0.222571</td>\n",
       "      <td>0.037439</td>\n",
       "      <td>0.002053</td>\n",
       "      <td>0.015433</td>\n",
       "      <td>-0.152683</td>\n",
       "      <td>0.115982</td>\n",
       "    </tr>\n",
       "    <tr>\n",
       "      <th>EST_CIVIL</th>\n",
       "      <td>-0.025653</td>\n",
       "      <td>0.153034</td>\n",
       "      <td>-0.146395</td>\n",
       "      <td>0.016104</td>\n",
       "      <td>-0.137122</td>\n",
       "      <td>-0.012479</td>\n",
       "      <td>-0.107820</td>\n",
       "      <td>-0.022094</td>\n",
       "      <td>1.000000</td>\n",
       "      <td>-0.006891</td>\n",
       "      <td>...</td>\n",
       "      <td>NaN</td>\n",
       "      <td>-0.058305</td>\n",
       "      <td>-0.003755</td>\n",
       "      <td>-0.009031</td>\n",
       "      <td>-0.079426</td>\n",
       "      <td>-0.512541</td>\n",
       "      <td>0.006266</td>\n",
       "      <td>-0.004456</td>\n",
       "      <td>0.171729</td>\n",
       "      <td>-0.148482</td>\n",
       "    </tr>\n",
       "    <tr>\n",
       "      <th>TIPO_VIVIENDA</th>\n",
       "      <td>0.018888</td>\n",
       "      <td>-0.077405</td>\n",
       "      <td>0.023271</td>\n",
       "      <td>-0.155523</td>\n",
       "      <td>0.032821</td>\n",
       "      <td>0.009687</td>\n",
       "      <td>0.072620</td>\n",
       "      <td>0.025068</td>\n",
       "      <td>-0.006891</td>\n",
       "      <td>1.000000</td>\n",
       "      <td>...</td>\n",
       "      <td>NaN</td>\n",
       "      <td>0.031654</td>\n",
       "      <td>-0.018449</td>\n",
       "      <td>0.003958</td>\n",
       "      <td>0.036171</td>\n",
       "      <td>0.013329</td>\n",
       "      <td>0.016442</td>\n",
       "      <td>-0.000337</td>\n",
       "      <td>-0.192971</td>\n",
       "      <td>0.098123</td>\n",
       "    </tr>\n",
       "    <tr>\n",
       "      <th>EDAD</th>\n",
       "      <td>0.041129</td>\n",
       "      <td>-0.202228</td>\n",
       "      <td>0.161165</td>\n",
       "      <td>-0.130697</td>\n",
       "      <td>0.351862</td>\n",
       "      <td>0.079617</td>\n",
       "      <td>0.431644</td>\n",
       "      <td>0.152230</td>\n",
       "      <td>-0.171909</td>\n",
       "      <td>0.193553</td>\n",
       "      <td>...</td>\n",
       "      <td>NaN</td>\n",
       "      <td>0.180264</td>\n",
       "      <td>-0.024136</td>\n",
       "      <td>0.101604</td>\n",
       "      <td>0.307131</td>\n",
       "      <td>0.323476</td>\n",
       "      <td>0.035738</td>\n",
       "      <td>0.004411</td>\n",
       "      <td>-0.999674</td>\n",
       "      <td>0.607570</td>\n",
       "    </tr>\n",
       "    <tr>\n",
       "      <th>VIDA_LABORAL</th>\n",
       "      <td>-0.026098</td>\n",
       "      <td>0.173219</td>\n",
       "      <td>-0.155895</td>\n",
       "      <td>0.091926</td>\n",
       "      <td>-0.227362</td>\n",
       "      <td>-0.178720</td>\n",
       "      <td>-0.726957</td>\n",
       "      <td>-0.115964</td>\n",
       "      <td>0.148485</td>\n",
       "      <td>-0.098129</td>\n",
       "      <td>...</td>\n",
       "      <td>NaN</td>\n",
       "      <td>-0.242826</td>\n",
       "      <td>-0.014239</td>\n",
       "      <td>-0.081777</td>\n",
       "      <td>-0.488925</td>\n",
       "      <td>-0.225782</td>\n",
       "      <td>-0.004090</td>\n",
       "      <td>0.002864</td>\n",
       "      <td>0.607630</td>\n",
       "      <td>-1.000000</td>\n",
       "    </tr>\n",
       "    <tr>\n",
       "      <th>MOVIL</th>\n",
       "      <td>NaN</td>\n",
       "      <td>NaN</td>\n",
       "      <td>NaN</td>\n",
       "      <td>NaN</td>\n",
       "      <td>NaN</td>\n",
       "      <td>NaN</td>\n",
       "      <td>NaN</td>\n",
       "      <td>NaN</td>\n",
       "      <td>NaN</td>\n",
       "      <td>NaN</td>\n",
       "      <td>...</td>\n",
       "      <td>NaN</td>\n",
       "      <td>NaN</td>\n",
       "      <td>NaN</td>\n",
       "      <td>NaN</td>\n",
       "      <td>NaN</td>\n",
       "      <td>NaN</td>\n",
       "      <td>NaN</td>\n",
       "      <td>NaN</td>\n",
       "      <td>NaN</td>\n",
       "      <td>NaN</td>\n",
       "    </tr>\n",
       "    <tr>\n",
       "      <th>TELEF_TRABAJO</th>\n",
       "      <td>0.083637</td>\n",
       "      <td>-0.057570</td>\n",
       "      <td>0.018279</td>\n",
       "      <td>-0.208964</td>\n",
       "      <td>0.042205</td>\n",
       "      <td>-0.023541</td>\n",
       "      <td>0.225634</td>\n",
       "      <td>0.014609</td>\n",
       "      <td>-0.058305</td>\n",
       "      <td>0.031654</td>\n",
       "      <td>...</td>\n",
       "      <td>NaN</td>\n",
       "      <td>1.000000</td>\n",
       "      <td>0.315964</td>\n",
       "      <td>-0.036522</td>\n",
       "      <td>0.133038</td>\n",
       "      <td>0.059292</td>\n",
       "      <td>0.001227</td>\n",
       "      <td>0.008811</td>\n",
       "      <td>-0.180867</td>\n",
       "      <td>0.242852</td>\n",
       "    </tr>\n",
       "    <tr>\n",
       "      <th>TELEF_FIJO</th>\n",
       "      <td>0.007849</td>\n",
       "      <td>0.026768</td>\n",
       "      <td>-0.014831</td>\n",
       "      <td>-0.063042</td>\n",
       "      <td>-0.018356</td>\n",
       "      <td>0.020312</td>\n",
       "      <td>0.010887</td>\n",
       "      <td>0.040124</td>\n",
       "      <td>-0.003755</td>\n",
       "      <td>-0.018449</td>\n",
       "      <td>...</td>\n",
       "      <td>NaN</td>\n",
       "      <td>0.315964</td>\n",
       "      <td>1.000000</td>\n",
       "      <td>0.011839</td>\n",
       "      <td>0.020116</td>\n",
       "      <td>-0.008468</td>\n",
       "      <td>-0.004605</td>\n",
       "      <td>-0.003901</td>\n",
       "      <td>0.024030</td>\n",
       "      <td>0.014238</td>\n",
       "    </tr>\n",
       "    <tr>\n",
       "      <th>MAIL</th>\n",
       "      <td>-0.055121</td>\n",
       "      <td>0.011660</td>\n",
       "      <td>0.027585</td>\n",
       "      <td>0.053311</td>\n",
       "      <td>0.014814</td>\n",
       "      <td>0.089182</td>\n",
       "      <td>0.022961</td>\n",
       "      <td>0.098353</td>\n",
       "      <td>-0.009031</td>\n",
       "      <td>0.003958</td>\n",
       "      <td>...</td>\n",
       "      <td>NaN</td>\n",
       "      <td>-0.036522</td>\n",
       "      <td>0.011839</td>\n",
       "      <td>1.000000</td>\n",
       "      <td>0.079659</td>\n",
       "      <td>0.011306</td>\n",
       "      <td>0.006702</td>\n",
       "      <td>-0.011546</td>\n",
       "      <td>-0.101333</td>\n",
       "      <td>0.081778</td>\n",
       "    </tr>\n",
       "    <tr>\n",
       "      <th>OCUPACION</th>\n",
       "      <td>0.010584</td>\n",
       "      <td>-0.000235</td>\n",
       "      <td>0.121723</td>\n",
       "      <td>-0.028513</td>\n",
       "      <td>0.142365</td>\n",
       "      <td>0.211009</td>\n",
       "      <td>0.304947</td>\n",
       "      <td>0.222571</td>\n",
       "      <td>-0.079426</td>\n",
       "      <td>0.036171</td>\n",
       "      <td>...</td>\n",
       "      <td>NaN</td>\n",
       "      <td>0.133038</td>\n",
       "      <td>0.020116</td>\n",
       "      <td>0.079659</td>\n",
       "      <td>1.000000</td>\n",
       "      <td>0.140331</td>\n",
       "      <td>-0.003543</td>\n",
       "      <td>-0.003871</td>\n",
       "      <td>-0.307249</td>\n",
       "      <td>0.488929</td>\n",
       "    </tr>\n",
       "    <tr>\n",
       "      <th>TAM_FAMILIA</th>\n",
       "      <td>0.027048</td>\n",
       "      <td>-0.138096</td>\n",
       "      <td>0.156220</td>\n",
       "      <td>-0.013747</td>\n",
       "      <td>0.892632</td>\n",
       "      <td>0.030111</td>\n",
       "      <td>0.186776</td>\n",
       "      <td>0.037439</td>\n",
       "      <td>-0.512541</td>\n",
       "      <td>0.013329</td>\n",
       "      <td>...</td>\n",
       "      <td>NaN</td>\n",
       "      <td>0.059292</td>\n",
       "      <td>-0.008468</td>\n",
       "      <td>0.011306</td>\n",
       "      <td>0.140331</td>\n",
       "      <td>1.000000</td>\n",
       "      <td>-0.007565</td>\n",
       "      <td>-0.001029</td>\n",
       "      <td>-0.323398</td>\n",
       "      <td>0.225787</td>\n",
       "    </tr>\n",
       "    <tr>\n",
       "      <th>ESTADO_MES</th>\n",
       "      <td>0.005318</td>\n",
       "      <td>-0.014672</td>\n",
       "      <td>-0.002628</td>\n",
       "      <td>-0.008810</td>\n",
       "      <td>0.000198</td>\n",
       "      <td>0.002049</td>\n",
       "      <td>0.000628</td>\n",
       "      <td>0.002053</td>\n",
       "      <td>0.006266</td>\n",
       "      <td>0.016442</td>\n",
       "      <td>...</td>\n",
       "      <td>NaN</td>\n",
       "      <td>0.001227</td>\n",
       "      <td>-0.004605</td>\n",
       "      <td>0.006702</td>\n",
       "      <td>-0.003543</td>\n",
       "      <td>-0.007565</td>\n",
       "      <td>1.000000</td>\n",
       "      <td>0.154099</td>\n",
       "      <td>-0.035740</td>\n",
       "      <td>0.004088</td>\n",
       "    </tr>\n",
       "    <tr>\n",
       "      <th>STATUS</th>\n",
       "      <td>0.014276</td>\n",
       "      <td>-0.002992</td>\n",
       "      <td>-0.001593</td>\n",
       "      <td>-0.001456</td>\n",
       "      <td>-0.003432</td>\n",
       "      <td>-0.017886</td>\n",
       "      <td>0.003391</td>\n",
       "      <td>0.015433</td>\n",
       "      <td>-0.004456</td>\n",
       "      <td>-0.000337</td>\n",
       "      <td>...</td>\n",
       "      <td>NaN</td>\n",
       "      <td>0.008811</td>\n",
       "      <td>-0.003901</td>\n",
       "      <td>-0.011546</td>\n",
       "      <td>-0.003871</td>\n",
       "      <td>-0.001029</td>\n",
       "      <td>0.154099</td>\n",
       "      <td>1.000000</td>\n",
       "      <td>-0.004172</td>\n",
       "      <td>-0.002871</td>\n",
       "    </tr>\n",
       "    <tr>\n",
       "      <th>EDAD</th>\n",
       "      <td>-0.041049</td>\n",
       "      <td>0.202082</td>\n",
       "      <td>-0.160798</td>\n",
       "      <td>0.130121</td>\n",
       "      <td>-0.351747</td>\n",
       "      <td>-0.079531</td>\n",
       "      <td>-0.431938</td>\n",
       "      <td>-0.152683</td>\n",
       "      <td>0.171729</td>\n",
       "      <td>-0.192971</td>\n",
       "      <td>...</td>\n",
       "      <td>NaN</td>\n",
       "      <td>-0.180867</td>\n",
       "      <td>0.024030</td>\n",
       "      <td>-0.101333</td>\n",
       "      <td>-0.307249</td>\n",
       "      <td>-0.323398</td>\n",
       "      <td>-0.035740</td>\n",
       "      <td>-0.004172</td>\n",
       "      <td>1.000000</td>\n",
       "      <td>-0.607632</td>\n",
       "    </tr>\n",
       "    <tr>\n",
       "      <th>VIDA_LABORAL</th>\n",
       "      <td>0.026093</td>\n",
       "      <td>-0.173217</td>\n",
       "      <td>0.155882</td>\n",
       "      <td>-0.091928</td>\n",
       "      <td>0.227369</td>\n",
       "      <td>0.178719</td>\n",
       "      <td>0.726970</td>\n",
       "      <td>0.115982</td>\n",
       "      <td>-0.148482</td>\n",
       "      <td>0.098123</td>\n",
       "      <td>...</td>\n",
       "      <td>NaN</td>\n",
       "      <td>0.242852</td>\n",
       "      <td>0.014238</td>\n",
       "      <td>0.081778</td>\n",
       "      <td>0.488929</td>\n",
       "      <td>0.225787</td>\n",
       "      <td>0.004088</td>\n",
       "      <td>-0.002871</td>\n",
       "      <td>-0.607632</td>\n",
       "      <td>1.000000</td>\n",
       "    </tr>\n",
       "  </tbody>\n",
       "</table>\n",
       "<p>22 rows × 22 columns</p>\n",
       "</div>"
      ],
      "text/plain": [
       "                     ID    GENERO     COCHE  PROPIEDAD     HIJOS  ING_ANUAL  \\\n",
       "ID             1.000000 -0.009999 -0.010044  -0.095454  0.027466  -0.026216   \n",
       "GENERO        -0.009999  1.000000 -0.366813   0.055300 -0.103097  -0.205622   \n",
       "COCHE         -0.010044 -0.366813  1.000000  -0.016590  0.109441   0.218903   \n",
       "PROPIEDAD     -0.095454  0.055300 -0.016590   1.000000 -0.011257   0.037646   \n",
       "HIJOS          0.027466 -0.103097  0.109441  -0.011257  1.000000   0.038632   \n",
       "ING_ANUAL     -0.026216 -0.205622  0.218903   0.037646  0.038632   1.000000   \n",
       "TIPO_ING       0.030663 -0.158871  0.111422  -0.077579  0.187663   0.033194   \n",
       "EDUCACION      0.001945  0.008813  0.102896  -0.009943  0.047280   0.235031   \n",
       "EST_CIVIL     -0.025653  0.153034 -0.146395   0.016104 -0.137122  -0.012479   \n",
       "TIPO_VIVIENDA  0.018888 -0.077405  0.023271  -0.155523  0.032821   0.009687   \n",
       "EDAD           0.041129 -0.202228  0.161165  -0.130697  0.351862   0.079617   \n",
       "VIDA_LABORAL  -0.026098  0.173219 -0.155895   0.091926 -0.227362  -0.178720   \n",
       "MOVIL               NaN       NaN       NaN        NaN       NaN        NaN   \n",
       "TELEF_TRABAJO  0.083637 -0.057570  0.018279  -0.208964  0.042205  -0.023541   \n",
       "TELEF_FIJO     0.007849  0.026768 -0.014831  -0.063042 -0.018356   0.020312   \n",
       "MAIL          -0.055121  0.011660  0.027585   0.053311  0.014814   0.089182   \n",
       "OCUPACION      0.010584 -0.000235  0.121723  -0.028513  0.142365   0.211009   \n",
       "TAM_FAMILIA    0.027048 -0.138096  0.156220  -0.013747  0.892632   0.030111   \n",
       "ESTADO_MES     0.005318 -0.014672 -0.002628  -0.008810  0.000198   0.002049   \n",
       "STATUS         0.014276 -0.002992 -0.001593  -0.001456 -0.003432  -0.017886   \n",
       "EDAD          -0.041049  0.202082 -0.160798   0.130121 -0.351747  -0.079531   \n",
       "VIDA_LABORAL   0.026093 -0.173217  0.155882  -0.091928  0.227369   0.178719   \n",
       "\n",
       "               TIPO_ING  EDUCACION  EST_CIVIL  TIPO_VIVIENDA  ...  MOVIL  \\\n",
       "ID             0.030663   0.001945  -0.025653       0.018888  ...    NaN   \n",
       "GENERO        -0.158871   0.008813   0.153034      -0.077405  ...    NaN   \n",
       "COCHE          0.111422   0.102896  -0.146395       0.023271  ...    NaN   \n",
       "PROPIEDAD     -0.077579  -0.009943   0.016104      -0.155523  ...    NaN   \n",
       "HIJOS          0.187663   0.047280  -0.137122       0.032821  ...    NaN   \n",
       "ING_ANUAL      0.033194   0.235031  -0.012479       0.009687  ...    NaN   \n",
       "TIPO_ING       1.000000   0.003060  -0.107820       0.072620  ...    NaN   \n",
       "EDUCACION      0.003060   1.000000  -0.022094       0.025068  ...    NaN   \n",
       "EST_CIVIL     -0.107820  -0.022094   1.000000      -0.006891  ...    NaN   \n",
       "TIPO_VIVIENDA  0.072620   0.025068  -0.006891       1.000000  ...    NaN   \n",
       "EDAD           0.431644   0.152230  -0.171909       0.193553  ...    NaN   \n",
       "VIDA_LABORAL  -0.726957  -0.115964   0.148485      -0.098129  ...    NaN   \n",
       "MOVIL               NaN        NaN        NaN            NaN  ...    NaN   \n",
       "TELEF_TRABAJO  0.225634   0.014609  -0.058305       0.031654  ...    NaN   \n",
       "TELEF_FIJO     0.010887   0.040124  -0.003755      -0.018449  ...    NaN   \n",
       "MAIL           0.022961   0.098353  -0.009031       0.003958  ...    NaN   \n",
       "OCUPACION      0.304947   0.222571  -0.079426       0.036171  ...    NaN   \n",
       "TAM_FAMILIA    0.186776   0.037439  -0.512541       0.013329  ...    NaN   \n",
       "ESTADO_MES     0.000628   0.002053   0.006266       0.016442  ...    NaN   \n",
       "STATUS         0.003391   0.015433  -0.004456      -0.000337  ...    NaN   \n",
       "EDAD          -0.431938  -0.152683   0.171729      -0.192971  ...    NaN   \n",
       "VIDA_LABORAL   0.726970   0.115982  -0.148482       0.098123  ...    NaN   \n",
       "\n",
       "               TELEF_TRABAJO  TELEF_FIJO      MAIL  OCUPACION  TAM_FAMILIA  \\\n",
       "ID                  0.083637    0.007849 -0.055121   0.010584     0.027048   \n",
       "GENERO             -0.057570    0.026768  0.011660  -0.000235    -0.138096   \n",
       "COCHE               0.018279   -0.014831  0.027585   0.121723     0.156220   \n",
       "PROPIEDAD          -0.208964   -0.063042  0.053311  -0.028513    -0.013747   \n",
       "HIJOS               0.042205   -0.018356  0.014814   0.142365     0.892632   \n",
       "ING_ANUAL          -0.023541    0.020312  0.089182   0.211009     0.030111   \n",
       "TIPO_ING            0.225634    0.010887  0.022961   0.304947     0.186776   \n",
       "EDUCACION           0.014609    0.040124  0.098353   0.222571     0.037439   \n",
       "EST_CIVIL          -0.058305   -0.003755 -0.009031  -0.079426    -0.512541   \n",
       "TIPO_VIVIENDA       0.031654   -0.018449  0.003958   0.036171     0.013329   \n",
       "EDAD                0.180264   -0.024136  0.101604   0.307131     0.323476   \n",
       "VIDA_LABORAL       -0.242826   -0.014239 -0.081777  -0.488925    -0.225782   \n",
       "MOVIL                    NaN         NaN       NaN        NaN          NaN   \n",
       "TELEF_TRABAJO       1.000000    0.315964 -0.036522   0.133038     0.059292   \n",
       "TELEF_FIJO          0.315964    1.000000  0.011839   0.020116    -0.008468   \n",
       "MAIL               -0.036522    0.011839  1.000000   0.079659     0.011306   \n",
       "OCUPACION           0.133038    0.020116  0.079659   1.000000     0.140331   \n",
       "TAM_FAMILIA         0.059292   -0.008468  0.011306   0.140331     1.000000   \n",
       "ESTADO_MES          0.001227   -0.004605  0.006702  -0.003543    -0.007565   \n",
       "STATUS              0.008811   -0.003901 -0.011546  -0.003871    -0.001029   \n",
       "EDAD               -0.180867    0.024030 -0.101333  -0.307249    -0.323398   \n",
       "VIDA_LABORAL        0.242852    0.014238  0.081778   0.488929     0.225787   \n",
       "\n",
       "               ESTADO_MES    STATUS      EDAD  VIDA_LABORAL  \n",
       "ID               0.005318  0.014276 -0.041049      0.026093  \n",
       "GENERO          -0.014672 -0.002992  0.202082     -0.173217  \n",
       "COCHE           -0.002628 -0.001593 -0.160798      0.155882  \n",
       "PROPIEDAD       -0.008810 -0.001456  0.130121     -0.091928  \n",
       "HIJOS            0.000198 -0.003432 -0.351747      0.227369  \n",
       "ING_ANUAL        0.002049 -0.017886 -0.079531      0.178719  \n",
       "TIPO_ING         0.000628  0.003391 -0.431938      0.726970  \n",
       "EDUCACION        0.002053  0.015433 -0.152683      0.115982  \n",
       "EST_CIVIL        0.006266 -0.004456  0.171729     -0.148482  \n",
       "TIPO_VIVIENDA    0.016442 -0.000337 -0.192971      0.098123  \n",
       "EDAD             0.035738  0.004411 -0.999674      0.607570  \n",
       "VIDA_LABORAL    -0.004090  0.002864  0.607630     -1.000000  \n",
       "MOVIL                 NaN       NaN       NaN           NaN  \n",
       "TELEF_TRABAJO    0.001227  0.008811 -0.180867      0.242852  \n",
       "TELEF_FIJO      -0.004605 -0.003901  0.024030      0.014238  \n",
       "MAIL             0.006702 -0.011546 -0.101333      0.081778  \n",
       "OCUPACION       -0.003543 -0.003871 -0.307249      0.488929  \n",
       "TAM_FAMILIA     -0.007565 -0.001029 -0.323398      0.225787  \n",
       "ESTADO_MES       1.000000  0.154099 -0.035740      0.004088  \n",
       "STATUS           0.154099  1.000000 -0.004172     -0.002871  \n",
       "EDAD            -0.035740 -0.004172  1.000000     -0.607632  \n",
       "VIDA_LABORAL     0.004088 -0.002871 -0.607632      1.000000  \n",
       "\n",
       "[22 rows x 22 columns]"
      ]
     },
     "execution_count": 49,
     "metadata": {},
     "output_type": "execute_result"
    }
   ],
   "source": [
    "under_sample_df.corr()"
   ]
  },
  {
   "cell_type": "code",
   "execution_count": 50,
   "metadata": {},
   "outputs": [
    {
     "data": {
      "image/png": "[encoded data removed]",
      "text/plain": [
       "<Figure size 1500x1500 with 2 Axes>"
      ]
     },
     "metadata": {},
     "output_type": "display_data"
    }
   ],
   "source": [
    "plt.figure(figsize=(15,15))\n",
    "sns.heatmap(under_sample_df.corr(),\n",
    "            vmin=-1,\n",
    "            vmax=1,\n",
    "            cmap=sns.diverging_palette(145, 280, s=85, l=25, n=7),\n",
    "            square=True,\n",
    "            linewidths=.1,\n",
    "            annot=True);"
   ]
  },
  {
   "cell_type": "code",
   "execution_count": 52,
   "metadata": {},
   "outputs": [],
   "source": [
    "#De la matriz de correlación se pueden extraer varias conclusiones útiles. Por ejemplo, se puede observar que hay una correlación positiva media\n",
    "# entre la edad y la vida laboral (0.61). Esto significa que a medida que aumenta la edad, también aumenta la vida laboral. \n",
    "#También hay una correlación negativa fuerte entre tipo_ing y vida laboral (0.73). \n",
    "#Esto sugiere que las personas con un menor vida laboral tienden a menores ingresos anuales. \n",
    "#Además, hay una correlación moderada entre el estado civil y el número de hijos (0.4). \n",
    "#Esto significa que las personas casadas tienen más probabilidades de tener hijos.\n",
    "\n",
    "#ESTO HAY QUE REPASARLO"
   ]
  },
  {
   "cell_type": "code",
   "execution_count": 51,
   "metadata": {},
   "outputs": [
    {
     "data": {
      "text/html": [
       "<div>\n",
       "<style scoped>\n",
       "    .dataframe tbody tr th:only-of-type {\n",
       "        vertical-align: middle;\n",
       "    }\n",
       "\n",
       "    .dataframe tbody tr th {\n",
       "        vertical-align: top;\n",
       "    }\n",
       "\n",
       "    .dataframe thead th {\n",
       "        text-align: right;\n",
       "    }\n",
       "</style>\n",
       "<table border=\"1\" class=\"dataframe\">\n",
       "  <thead>\n",
       "    <tr style=\"text-align: right;\">\n",
       "      <th></th>\n",
       "      <th>ID</th>\n",
       "      <th>GENERO</th>\n",
       "      <th>COCHE</th>\n",
       "      <th>PROPIEDAD</th>\n",
       "      <th>HIJOS</th>\n",
       "      <th>ING_ANUAL</th>\n",
       "      <th>TIPO_ING</th>\n",
       "      <th>EDUCACION</th>\n",
       "      <th>EST_CIVIL</th>\n",
       "      <th>TIPO_VIVIENDA</th>\n",
       "      <th>...</th>\n",
       "      <th>MOVIL</th>\n",
       "      <th>TELEF_TRABAJO</th>\n",
       "      <th>TELEF_FIJO</th>\n",
       "      <th>MAIL</th>\n",
       "      <th>OCUPACION</th>\n",
       "      <th>TAM_FAMILIA</th>\n",
       "      <th>ESTADO_MES</th>\n",
       "      <th>STATUS</th>\n",
       "      <th>EDAD</th>\n",
       "      <th>VIDA_LABORAL</th>\n",
       "    </tr>\n",
       "  </thead>\n",
       "  <tbody>\n",
       "    <tr>\n",
       "      <th>405560</th>\n",
       "      <td>5024641</td>\n",
       "      <td>1</td>\n",
       "      <td>1</td>\n",
       "      <td>1</td>\n",
       "      <td>0</td>\n",
       "      <td>180000.0</td>\n",
       "      <td>2</td>\n",
       "      <td>4</td>\n",
       "      <td>0</td>\n",
       "      <td>0</td>\n",
       "      <td>...</td>\n",
       "      <td>1</td>\n",
       "      <td>0</td>\n",
       "      <td>0</td>\n",
       "      <td>0</td>\n",
       "      <td>4</td>\n",
       "      <td>2.0</td>\n",
       "      <td>-33</td>\n",
       "      <td>1</td>\n",
       "      <td>27</td>\n",
       "      <td>4</td>\n",
       "    </tr>\n",
       "    <tr>\n",
       "      <th>204655</th>\n",
       "      <td>5022741</td>\n",
       "      <td>1</td>\n",
       "      <td>0</td>\n",
       "      <td>1</td>\n",
       "      <td>0</td>\n",
       "      <td>180000.0</td>\n",
       "      <td>4</td>\n",
       "      <td>1</td>\n",
       "      <td>0</td>\n",
       "      <td>0</td>\n",
       "      <td>...</td>\n",
       "      <td>1</td>\n",
       "      <td>0</td>\n",
       "      <td>0</td>\n",
       "      <td>1</td>\n",
       "      <td>2</td>\n",
       "      <td>2.0</td>\n",
       "      <td>-5</td>\n",
       "      <td>0</td>\n",
       "      <td>26</td>\n",
       "      <td>3</td>\n",
       "    </tr>\n",
       "    <tr>\n",
       "      <th>215490</th>\n",
       "      <td>5048221</td>\n",
       "      <td>1</td>\n",
       "      <td>0</td>\n",
       "      <td>1</td>\n",
       "      <td>0</td>\n",
       "      <td>130500.0</td>\n",
       "      <td>2</td>\n",
       "      <td>1</td>\n",
       "      <td>0</td>\n",
       "      <td>0</td>\n",
       "      <td>...</td>\n",
       "      <td>1</td>\n",
       "      <td>0</td>\n",
       "      <td>0</td>\n",
       "      <td>0</td>\n",
       "      <td>2</td>\n",
       "      <td>2.0</td>\n",
       "      <td>-40</td>\n",
       "      <td>1</td>\n",
       "      <td>49</td>\n",
       "      <td>9</td>\n",
       "    </tr>\n",
       "    <tr>\n",
       "      <th>583423</th>\n",
       "      <td>5143176</td>\n",
       "      <td>0</td>\n",
       "      <td>1</td>\n",
       "      <td>0</td>\n",
       "      <td>0</td>\n",
       "      <td>225000.0</td>\n",
       "      <td>2</td>\n",
       "      <td>1</td>\n",
       "      <td>1</td>\n",
       "      <td>0</td>\n",
       "      <td>...</td>\n",
       "      <td>1</td>\n",
       "      <td>0</td>\n",
       "      <td>0</td>\n",
       "      <td>0</td>\n",
       "      <td>4</td>\n",
       "      <td>1.0</td>\n",
       "      <td>-33</td>\n",
       "      <td>1</td>\n",
       "      <td>47</td>\n",
       "      <td>7</td>\n",
       "    </tr>\n",
       "    <tr>\n",
       "      <th>102133</th>\n",
       "      <td>5145821</td>\n",
       "      <td>1</td>\n",
       "      <td>0</td>\n",
       "      <td>0</td>\n",
       "      <td>0</td>\n",
       "      <td>202500.0</td>\n",
       "      <td>4</td>\n",
       "      <td>1</td>\n",
       "      <td>2</td>\n",
       "      <td>0</td>\n",
       "      <td>...</td>\n",
       "      <td>1</td>\n",
       "      <td>0</td>\n",
       "      <td>0</td>\n",
       "      <td>0</td>\n",
       "      <td>4</td>\n",
       "      <td>1.0</td>\n",
       "      <td>-35</td>\n",
       "      <td>1</td>\n",
       "      <td>39</td>\n",
       "      <td>12</td>\n",
       "    </tr>\n",
       "    <tr>\n",
       "      <th>...</th>\n",
       "      <td>...</td>\n",
       "      <td>...</td>\n",
       "      <td>...</td>\n",
       "      <td>...</td>\n",
       "      <td>...</td>\n",
       "      <td>...</td>\n",
       "      <td>...</td>\n",
       "      <td>...</td>\n",
       "      <td>...</td>\n",
       "      <td>...</td>\n",
       "      <td>...</td>\n",
       "      <td>...</td>\n",
       "      <td>...</td>\n",
       "      <td>...</td>\n",
       "      <td>...</td>\n",
       "      <td>...</td>\n",
       "      <td>...</td>\n",
       "      <td>...</td>\n",
       "      <td>...</td>\n",
       "      <td>...</td>\n",
       "      <td>...</td>\n",
       "    </tr>\n",
       "    <tr>\n",
       "      <th>117495</th>\n",
       "      <td>5125362</td>\n",
       "      <td>0</td>\n",
       "      <td>1</td>\n",
       "      <td>0</td>\n",
       "      <td>0</td>\n",
       "      <td>135000.0</td>\n",
       "      <td>4</td>\n",
       "      <td>1</td>\n",
       "      <td>0</td>\n",
       "      <td>0</td>\n",
       "      <td>...</td>\n",
       "      <td>1</td>\n",
       "      <td>0</td>\n",
       "      <td>0</td>\n",
       "      <td>0</td>\n",
       "      <td>2</td>\n",
       "      <td>2.0</td>\n",
       "      <td>-54</td>\n",
       "      <td>0</td>\n",
       "      <td>33</td>\n",
       "      <td>0</td>\n",
       "    </tr>\n",
       "    <tr>\n",
       "      <th>25445</th>\n",
       "      <td>5146391</td>\n",
       "      <td>1</td>\n",
       "      <td>0</td>\n",
       "      <td>1</td>\n",
       "      <td>0</td>\n",
       "      <td>198000.0</td>\n",
       "      <td>1</td>\n",
       "      <td>1</td>\n",
       "      <td>2</td>\n",
       "      <td>0</td>\n",
       "      <td>...</td>\n",
       "      <td>1</td>\n",
       "      <td>0</td>\n",
       "      <td>0</td>\n",
       "      <td>0</td>\n",
       "      <td>0</td>\n",
       "      <td>1.0</td>\n",
       "      <td>-30</td>\n",
       "      <td>0</td>\n",
       "      <td>56</td>\n",
       "      <td>-1001</td>\n",
       "    </tr>\n",
       "    <tr>\n",
       "      <th>165847</th>\n",
       "      <td>5048121</td>\n",
       "      <td>0</td>\n",
       "      <td>1</td>\n",
       "      <td>1</td>\n",
       "      <td>2</td>\n",
       "      <td>292500.0</td>\n",
       "      <td>2</td>\n",
       "      <td>1</td>\n",
       "      <td>0</td>\n",
       "      <td>0</td>\n",
       "      <td>...</td>\n",
       "      <td>1</td>\n",
       "      <td>0</td>\n",
       "      <td>1</td>\n",
       "      <td>0</td>\n",
       "      <td>0</td>\n",
       "      <td>4.0</td>\n",
       "      <td>-44</td>\n",
       "      <td>1</td>\n",
       "      <td>33</td>\n",
       "      <td>7</td>\n",
       "    </tr>\n",
       "    <tr>\n",
       "      <th>220616</th>\n",
       "      <td>5114566</td>\n",
       "      <td>0</td>\n",
       "      <td>1</td>\n",
       "      <td>1</td>\n",
       "      <td>1</td>\n",
       "      <td>157500.0</td>\n",
       "      <td>4</td>\n",
       "      <td>1</td>\n",
       "      <td>0</td>\n",
       "      <td>0</td>\n",
       "      <td>...</td>\n",
       "      <td>1</td>\n",
       "      <td>0</td>\n",
       "      <td>1</td>\n",
       "      <td>0</td>\n",
       "      <td>2</td>\n",
       "      <td>3.0</td>\n",
       "      <td>-3</td>\n",
       "      <td>1</td>\n",
       "      <td>41</td>\n",
       "      <td>6</td>\n",
       "    </tr>\n",
       "    <tr>\n",
       "      <th>428854</th>\n",
       "      <td>5091208</td>\n",
       "      <td>1</td>\n",
       "      <td>0</td>\n",
       "      <td>1</td>\n",
       "      <td>0</td>\n",
       "      <td>135000.0</td>\n",
       "      <td>1</td>\n",
       "      <td>1</td>\n",
       "      <td>1</td>\n",
       "      <td>0</td>\n",
       "      <td>...</td>\n",
       "      <td>1</td>\n",
       "      <td>0</td>\n",
       "      <td>0</td>\n",
       "      <td>0</td>\n",
       "      <td>0</td>\n",
       "      <td>1.0</td>\n",
       "      <td>-12</td>\n",
       "      <td>0</td>\n",
       "      <td>40</td>\n",
       "      <td>-1001</td>\n",
       "    </tr>\n",
       "  </tbody>\n",
       "</table>\n",
       "<p>60445 rows × 22 columns</p>\n",
       "</div>"
      ],
      "text/plain": [
       "             ID  GENERO  COCHE  PROPIEDAD  HIJOS  ING_ANUAL  TIPO_ING  \\\n",
       "405560  5024641       1      1          1      0   180000.0         2   \n",
       "204655  5022741       1      0          1      0   180000.0         4   \n",
       "215490  5048221       1      0          1      0   130500.0         2   \n",
       "583423  5143176       0      1          0      0   225000.0         2   \n",
       "102133  5145821       1      0          0      0   202500.0         4   \n",
       "...         ...     ...    ...        ...    ...        ...       ...   \n",
       "117495  5125362       0      1          0      0   135000.0         4   \n",
       "25445   5146391       1      0          1      0   198000.0         1   \n",
       "165847  5048121       0      1          1      2   292500.0         2   \n",
       "220616  5114566       0      1          1      1   157500.0         4   \n",
       "428854  5091208       1      0          1      0   135000.0         1   \n",
       "\n",
       "        EDUCACION  EST_CIVIL  TIPO_VIVIENDA  ...  MOVIL  TELEF_TRABAJO  \\\n",
       "405560          4          0              0  ...      1              0   \n",
       "204655          1          0              0  ...      1              0   \n",
       "215490          1          0              0  ...      1              0   \n",
       "583423          1          1              0  ...      1              0   \n",
       "102133          1          2              0  ...      1              0   \n",
       "...           ...        ...            ...  ...    ...            ...   \n",
       "117495          1          0              0  ...      1              0   \n",
       "25445           1          2              0  ...      1              0   \n",
       "165847          1          0              0  ...      1              0   \n",
       "220616          1          0              0  ...      1              0   \n",
       "428854          1          1              0  ...      1              0   \n",
       "\n",
       "        TELEF_FIJO  MAIL  OCUPACION  TAM_FAMILIA  ESTADO_MES  STATUS  EDAD  \\\n",
       "405560           0     0          4          2.0         -33       1    27   \n",
       "204655           0     1          2          2.0          -5       0    26   \n",
       "215490           0     0          2          2.0         -40       1    49   \n",
       "583423           0     0          4          1.0         -33       1    47   \n",
       "102133           0     0          4          1.0         -35       1    39   \n",
       "...            ...   ...        ...          ...         ...     ...   ...   \n",
       "117495           0     0          2          2.0         -54       0    33   \n",
       "25445            0     0          0          1.0         -30       0    56   \n",
       "165847           1     0          0          4.0         -44       1    33   \n",
       "220616           1     0          2          3.0          -3       1    41   \n",
       "428854           0     0          0          1.0         -12       0    40   \n",
       "\n",
       "        VIDA_LABORAL  \n",
       "405560             4  \n",
       "204655             3  \n",
       "215490             9  \n",
       "583423             7  \n",
       "102133            12  \n",
       "...              ...  \n",
       "117495             0  \n",
       "25445          -1001  \n",
       "165847             7  \n",
       "220616             6  \n",
       "428854         -1001  \n",
       "\n",
       "[60445 rows x 22 columns]"
      ]
     },
     "execution_count": 51,
     "metadata": {},
     "output_type": "execute_result"
    }
   ],
   "source": [
    "subset = under_sample_df.sample(n=60445,random_state=42)\n",
    "subset"
   ]
  },
  {
   "attachments": {},
   "cell_type": "markdown",
   "metadata": {},
   "source": [
    "## **MODELOS** ##"
   ]
  },
  {
   "cell_type": "code",
   "execution_count": 52,
   "metadata": {},
   "outputs": [],
   "source": [
    "#Primero divido en variable X e y:\n",
    "X = subset.drop('STATUS', axis=1)\n",
    "y = subset['STATUS']"
   ]
  },
  {
   "cell_type": "code",
   "execution_count": 53,
   "metadata": {},
   "outputs": [],
   "source": [
    "#Divido en train y test:\n",
    "from sklearn.model_selection import train_test_split\n",
    "\n",
    "X_train, X_test, y_train, y_test = train_test_split(X, y, test_size = 0.2, random_state=0)\n"
   ]
  },
  {
   "cell_type": "code",
   "execution_count": 54,
   "metadata": {},
   "outputs": [
    {
     "name": "stdout",
     "output_type": "stream",
     "text": [
      "(48356, 21)\n",
      "(12089, 21)\n",
      "(48356,)\n",
      "(12089,)\n"
     ]
    }
   ],
   "source": [
    "print(X_train.shape)\n",
    "print(X_test.shape)\n",
    "print(y_train.shape)\n",
    "print(y_test.shape)"
   ]
  },
  {
   "cell_type": "code",
   "execution_count": 55,
   "metadata": {},
   "outputs": [],
   "source": [
    "from sklearn.preprocessing import StandardScaler\n",
    "\n",
    "scaler = StandardScaler()\n",
    "X_train_scal = scaler.fit_transform(X_train)\n",
    "X_test_scal = scaler.transform(X_test)"
   ]
  },
  {
   "attachments": {},
   "cell_type": "markdown",
   "metadata": {},
   "source": [
    "***REGRESIÓN LOGÍSTICA***"
   ]
  },
  {
   "cell_type": "code",
   "execution_count": null,
   "metadata": {},
   "outputs": [],
   "source": [
    "#La regresión logística es una técnica de aprendizaje supervisado muy útil para predecir un target binario. \n",
    "#Esta técnica se utiliza para construir un modelo que prediga la probabilidad de que un evento ocurra. \n",
    "#Esto se logra mediante el uso de una función logística, que es una función matemática que relaciona una variable con la \n",
    "#probabilidad de que ocurra un evento. Al mismo tiempo, la regresión logística permite evaluar las variables independientes \n",
    "#para determinar su influencia en el resultado.\n",
    "#Un modelo de regresión logística sería una buena opción para predecir el target en este caso. \n",
    "#Esta técnica se utiliza para predecir la probabilidad de que una observación pertenezca a una clase determinada. \n",
    "#En este caso, el modelo de regresión logística podría ser útil para predecir la probabilidad de que una solicitud se acepte o rechace."
   ]
  },
  {
   "cell_type": "code",
   "execution_count": 56,
   "metadata": {},
   "outputs": [
    {
     "name": "stdout",
     "output_type": "stream",
     "text": [
      "Matriz de confusión: \n",
      " [[3183 2882]\n",
      " [2430 3594]]\n",
      "Recall: 0.5966135458167331\n",
      "F1 Score: 0.5750400000000001\n",
      "Accuracy 0.5605922739680701\n",
      "Área bajo la curva: 0.579897475226875\n"
     ]
    }
   ],
   "source": [
    "\n",
    "from sklearn.linear_model import LogisticRegression\n",
    "from sklearn.model_selection import cross_val_score\n",
    "\n",
    "logreg = LogisticRegression()\n",
    "scores = cross_val_score(logreg,X_train_scal, y_train, \n",
    "                        cv=5, scoring='roc_auc')\n",
    "\n",
    "# Entreno el modelo\n",
    "logreg.fit(X_train_scal, y_train)\n",
    "\n",
    "# Predigo\n",
    "y_pred = logreg.predict(X_test_scal)\n",
    "\n",
    "# Métricas\n",
    "from sklearn.metrics import confusion_matrix\n",
    "from sklearn.metrics import recall_score\n",
    "from sklearn.metrics import f1_score\n",
    "from sklearn.metrics import roc_curve\n",
    "from sklearn.metrics import accuracy_score\n",
    "\n",
    "cm = confusion_matrix(y_test, y_pred)\n",
    "recall = recall_score(y_test, y_pred)\n",
    "f1 = f1_score(y_test, y_pred)\n",
    "\n",
    "#Curva ROC\n",
    "y_pred_proba = logreg.predict_proba(X_test_scal)[::,1]\n",
    "fpr, tpr, _ = roc_curve(y_test,  y_pred_proba)\n",
    "\n",
    "#A partir de la curva ROC obtenemos el área bajo la curva (AUC):\n",
    "auc = np.trapz(tpr,fpr)\n",
    "\n",
    "print(\"Matriz de confusión: \\n\", cm)\n",
    "print(\"Recall:\", recall)\n",
    "print(\"F1 Score:\", f1)\n",
    "print('Accuracy', accuracy_score(y_test, y_pred))\n",
    "print(\"Área bajo la curva:\", auc)"
   ]
  },
  {
   "cell_type": "code",
   "execution_count": 57,
   "metadata": {},
   "outputs": [
    {
     "data": {
      "text/plain": [
       "<AxesSubplot:>"
      ]
     },
     "execution_count": 57,
     "metadata": {},
     "output_type": "execute_result"
    },
    {
     "data": {
      "image/png": "[encoded data removed]",
      "text/plain": [
       "<Figure size 640x480 with 2 Axes>"
      ]
     },
     "metadata": {},
     "output_type": "display_data"
    }
   ],
   "source": [
    "sns.heatmap(confusion_matrix(y_test, y_pred, normalize='true'), annot=True)"
   ]
  },
  {
   "cell_type": "code",
   "execution_count": null,
   "metadata": {},
   "outputs": [],
   "source": [
    "\n",
    "#Estos resultados sugieren que el modelo de machine learning para objetivos binarios tiene una precisión media. \n",
    "#El valor de accuracy(exactitud) de 0.56 es una medida relativamente baja de precisión, pero la medida F1 de 0.57 y el área bajo la curva de 0.59 \n",
    "#son un poco mejores. Además, el valor de recall de 0.59 indica una buena capacidad de clasificación de la clase positiva. \n",
    "#Estos resultados sugieren que el modelo es útil para clasificar objetivos binarios con una precisión aceptable, \n",
    "#pero probablemente pueda mejorarse aún más."
   ]
  },
  {
   "attachments": {},
   "cell_type": "markdown",
   "metadata": {},
   "source": [
    "***KNN***"
   ]
  },
  {
   "cell_type": "code",
   "execution_count": 58,
   "metadata": {},
   "outputs": [
    {
     "name": "stdout",
     "output_type": "stream",
     "text": [
      "Matriz de confusión: \n",
      " [[2929 3136]\n",
      " [2259 3765]]\n",
      "Recall: 0.625\n",
      "F1 Score: 0.5825918762088975\n",
      "Accuracy 0.5537265282488213\n",
      "Área bajo la curva: 0.5796390694435777\n"
     ]
    }
   ],
   "source": [
    "\n",
    "from sklearn.neighbors import KNeighborsClassifier\n",
    "\n",
    "knn = KNeighborsClassifier(n_neighbors=500,n_jobs=-1)\n",
    "scores = cross_val_score(knn,X_train_scal, y_train, \n",
    "                        cv=5, scoring='roc_auc')\n",
    "\n",
    "# Entreno el modelo\n",
    "knn.fit(X_train_scal, y_train)\n",
    "\n",
    "# Predigo\n",
    "y_pred = knn.predict(X_test_scal)\n",
    "\n",
    "# Métricas\n",
    "from sklearn.metrics import confusion_matrix\n",
    "from sklearn.metrics import recall_score\n",
    "from sklearn.metrics import f1_score\n",
    "from sklearn.metrics import roc_curve\n",
    "from sklearn.metrics import accuracy_score\n",
    "\n",
    "cm = confusion_matrix(y_test, y_pred)\n",
    "recall = recall_score(y_test, y_pred)\n",
    "f1 = f1_score(y_test, y_pred)\n",
    "\n",
    "#Curva ROC\n",
    "y_pred_proba = knn.predict_proba(X_test_scal)[::,1]\n",
    "fpr, tpr, _ = roc_curve(y_test,  y_pred_proba)\n",
    "\n",
    "#A partir de la curva ROC obtenemos el área bajo la curva (AUC):\n",
    "auc = np.trapz(tpr,fpr)\n",
    "\n",
    "print(\"Matriz de confusión: \\n\", cm)\n",
    "print(\"Recall:\", recall)\n",
    "print(\"F1 Score:\", f1)\n",
    "print('Accuracy', accuracy_score(y_test, y_pred))\n",
    "print(\"Área bajo la curva:\", auc)\n"
   ]
  },
  {
   "cell_type": "code",
   "execution_count": 73,
   "metadata": {},
   "outputs": [
    {
     "data": {
      "text/plain": [
       "array([[3133, 3023],\n",
       "       [2332, 3601]], dtype=int64)"
      ]
     },
     "execution_count": 73,
     "metadata": {},
     "output_type": "execute_result"
    }
   ],
   "source": [
    "#MATRIZ DE CONFUSIÓN\n",
    "from sklearn.metrics import confusion_matrix\n",
    "c_mat = confusion_matrix(y_test, y_pred)\n",
    "c_mat"
   ]
  },
  {
   "cell_type": "code",
   "execution_count": 74,
   "metadata": {},
   "outputs": [
    {
     "data": {
      "text/plain": [
       "<AxesSubplot:>"
      ]
     },
     "execution_count": 74,
     "metadata": {},
     "output_type": "execute_result"
    },
    {
     "data": {
      "image/png": "[encoded data removed]",
      "text/plain": [
       "<Figure size 640x480 with 2 Axes>"
      ]
     },
     "metadata": {},
     "output_type": "display_data"
    }
   ],
   "source": [
    "sns.heatmap(confusion_matrix(y_test, y_pred, normalize='true'), annot=True)"
   ]
  },
  {
   "cell_type": "code",
   "execution_count": null,
   "metadata": {},
   "outputs": [],
   "source": [
    "\n",
    "#Estos resultados indican que el modelo de machine learning de objetivos binarios tuvo una precisión de clasificación del 55.37%, \n",
    "#lo que significa que el modelo hizo predicciones correctas en aproximadamente la mitad de los casos. \n",
    "#Esto también se refleja en el área bajo la curva, que es de 0.58. Además, el modelo tuvo una sensibilidad del 60.69% y una medida F1 de 0.58, \n",
    "#lo que significa que tuvo una precisión aceptable. Por lo tanto, podemos concluir que el modelo tuvo un desempeño aceptable, \n",
    "#pero aún hay espacio para mejorar."
   ]
  },
  {
   "attachments": {},
   "cell_type": "markdown",
   "metadata": {},
   "source": [
    "***RANDOM FOREST***"
   ]
  },
  {
   "cell_type": "code",
   "execution_count": null,
   "metadata": {},
   "outputs": [],
   "source": [
    "#Un modelo Random Forest sería una buena opción para predecir el target. \n",
    "#Random Forest es un algoritmo muy robusto y capaz de manejar problemas con conjuntos de datos desbalanceados. \n",
    "#Además, es un algoritmo que ofrece buenos resultados de rendimiento en comparación con otros algoritmos.\n",
    "#El modelo Random Forest es capaz de producir predicciones precisas con una cantidad relativamente pequeña de datos de entrenamiento.\n",
    "# Esto significa que el modelo es capaz de generalizar los datos de entrenamiento y producir predicciones precisas para nuevos datos."
   ]
  },
  {
   "cell_type": "code",
   "execution_count": 60,
   "metadata": {},
   "outputs": [
    {
     "name": "stdout",
     "output_type": "stream",
     "text": [
      "Fitting 5 folds for each of 144 candidates, totalling 720 fits\n"
     ]
    }
   ],
   "source": [
    "#Importamos los módulos necesarios para construir el modelo:\n",
    "from sklearn.ensemble import RandomForestClassifier\n",
    "from sklearn.model_selection import GridSearchCV\n",
    "from sklearn.metrics import recall_score,f1_score,precision_score,roc_curve,accuracy_score\n",
    "\n",
    "#Definimos los parámetros de la búsqueda grid:\n",
    "parameters = {'max_depth':[2,4,6], \n",
    "              'n_estimators':[50,100,150,200], \n",
    "              'min_samples_split':[2,3,4],\n",
    "              'min_samples_leaf':[1,2,3,4]} \n",
    "\n",
    "#Entrenamos el modelo utilizando GridSearchCV:\n",
    "rf_model = GridSearchCV(RandomForestClassifier(), parameters,cv=5,verbose=1,n_jobs=-1)\n",
    "rf_model.fit(X_train_scal, y_train)\n",
    "\n",
    "#Hacemos las predicciones:\n",
    "y_pred = rf_model.predict(X_test_scal)\n",
    "\n",
    "#Obtenemos el mejor estimador:\n",
    "best_estimator = rf_model.best_estimator_\n",
    "\n",
    "#Calculamos las métricas:\n",
    "recall = recall_score(y_test, y_pred)\n",
    "f1score = f1_score(y_test, y_pred)\n",
    "precision = precision_score(y_test, y_pred)\n",
    "\n",
    "\n",
    "#Curva ROC\n",
    "y_pred_proba = rf_model.predict_proba(X_test_scal)[::,1]\n",
    "fpr, tpr, _ = roc_curve(y_test,  y_pred_proba)\n",
    "\n",
    "#A partir de la curva ROC obtenemos el área bajo la curva (AUC):\n",
    "auc = np.trapz(tpr,fpr)\n",
    "\n",
    "#print('Recall:', recall)\n",
    "#print('F1 Score:', f1score)\n",
    "#print('Precision:', precision)\n",
    "#print('Accuracy', accuracy_score(y_test, y_pred))\n",
    "#print(\"Área bajo la curva:\", auc)"
   ]
  },
  {
   "cell_type": "code",
   "execution_count": 61,
   "metadata": {},
   "outputs": [
    {
     "name": "stdout",
     "output_type": "stream",
     "text": [
      "Recall: 0.7348937583001328\n",
      "F1 Score: 0.6319320533866248\n",
      "Precision: 0.554275698009265\n",
      "Accuracy 0.5734138472991976\n",
      "Área bajo la curva: 0.609597498984551\n"
     ]
    }
   ],
   "source": [
    "print('Recall:', recall)\n",
    "print('F1 Score:', f1score)\n",
    "print('Precision:', precision)\n",
    "print('Accuracy', accuracy_score(y_test, y_pred))\n",
    "print(\"Área bajo la curva:\", auc)"
   ]
  },
  {
   "cell_type": "code",
   "execution_count": 62,
   "metadata": {},
   "outputs": [
    {
     "data": {
      "text/plain": [
       "array([[2505, 3560],\n",
       "       [1597, 4427]], dtype=int64)"
      ]
     },
     "execution_count": 62,
     "metadata": {},
     "output_type": "execute_result"
    }
   ],
   "source": [
    "from sklearn.metrics import confusion_matrix\n",
    "c_mat = confusion_matrix(y_test, y_pred)\n",
    "c_mat"
   ]
  },
  {
   "cell_type": "code",
   "execution_count": 63,
   "metadata": {},
   "outputs": [
    {
     "data": {
      "text/plain": [
       "<AxesSubplot:>"
      ]
     },
     "execution_count": 63,
     "metadata": {},
     "output_type": "execute_result"
    },
    {
     "data": {
      "image/png": "[encoded data removed]",
      "text/plain": [
       "<Figure size 640x480 with 2 Axes>"
      ]
     },
     "metadata": {},
     "output_type": "display_data"
    }
   ],
   "source": [
    "sns.heatmap(confusion_matrix(y_test, y_pred, normalize='true'), annot=True)"
   ]
  },
  {
   "cell_type": "code",
   "execution_count": null,
   "metadata": {},
   "outputs": [],
   "source": [
    "#Los resultados son aceptables, pero no excelentes. La exactitud es baja, al igual que la precisión, lo que significa \n",
    "#que el modelo no es tan preciso como se esperaba. El recall y la medida F1 son relativamente altos, lo que sugiere que el modelo puede \n",
    "#identificar correctamente la mayoría de las instancias de la clase objetivo. El área bajo la curva también es aceptable, lo que significa \n",
    "#que el modelo tiene una precisión razonablemente buena en diferentes umbrales de clasificación. En general, estos resultados indican que el \n",
    "#modelo es medianamente preciso, pero se podrían mejorar."
   ]
  },
  {
   "cell_type": "code",
   "execution_count": 96,
   "metadata": {},
   "outputs": [
    {
     "name": "stdout",
     "output_type": "stream",
     "text": [
      "1. Característica: MOVIL (0.000000)\n",
      "2. Característica: TIPO_VIVIENDA (0.006005)\n",
      "3. Característica: MAIL (0.007322)\n",
      "4. Característica: TELEF_TRABAJO (0.010078)\n",
      "5. Característica: GENERO (0.012343)\n",
      "6. Característica: HIJOS (0.013264)\n",
      "7. Característica: TELEF_FIJO (0.013601)\n",
      "8. Característica: PROPIEDAD (0.013932)\n",
      "9. Característica: COCHE (0.014085)\n",
      "10. Característica: EST_CIVIL (0.014635)\n",
      "11. Característica: EDUCACION (0.015569)\n",
      "12. Característica: TIPO_ING (0.017055)\n",
      "13. Característica: TAM_FAMILIA (0.019112)\n",
      "14. Característica: OCUPACION (0.027873)\n",
      "15. Característica: VIDA_LABORAL (0.037732)\n",
      "16. Característica: EDAD (0.061940)\n",
      "17. Característica: VIDA_LABORAL (0.071480)\n",
      "18. Característica: ING_ANUAL (0.075102)\n",
      "19. Característica: EDAD (0.092426)\n",
      "20. Característica: ESTADO_MES (0.238090)\n",
      "21. Característica: ID (0.238356)\n"
     ]
    }
   ],
   "source": [
    "import numpy as np\n",
    "\n",
    "# Obtiene la importancia de las características\n",
    "importances = rf.feature_importances_\n",
    "\n",
    "# Obtiene los nombres de las características\n",
    "features = X_train.columns\n",
    "\n",
    "# Ordena las características por su importancia\n",
    "indices = np.argsort(importances)\n",
    "\n",
    "# Imprime los nombres y la importancia de cada característica\n",
    "for f in range(X_train.shape[1]):\n",
    "    print(\"%d. Característica: %s (%f)\" % (f + 1, features[indices[f]], importances[indices[f]]))"
   ]
  },
  {
   "cell_type": "code",
   "execution_count": null,
   "metadata": {},
   "outputs": [],
   "source": [
    "#RANDOM FOREST:valores por defecto"
   ]
  },
  {
   "cell_type": "code",
   "execution_count": 64,
   "metadata": {},
   "outputs": [
    {
     "name": "stdout",
     "output_type": "stream",
     "text": [
      "Matriz de confusión: \n",
      " [[4418 1647]\n",
      " [1824 4200]]\n",
      "Recall: 0.6972111553784861\n",
      "F1 Score: 0.7076067728076825\n",
      "Accuracy 0.7128794772106875\n",
      "Área bajo la curva: 0.7830992736939026\n"
     ]
    }
   ],
   "source": [
    "\n",
    "from sklearn.ensemble import RandomForestClassifier\n",
    "from sklearn.model_selection import cross_val_score\n",
    "\n",
    "# Creamos el modelo de random forest\n",
    "rf = RandomForestClassifier(n_estimators=100,criterion='gini',min_samples_split=2,random_state=42,n_jobs=1)\n",
    "\n",
    "# Entrenamos el modelo con cross-validation\n",
    "scores = cross_val_score(rf, X_train_scal, y_train, cv=5, scoring='f1_macro')\n",
    "\n",
    "\n",
    "rf.fit(X_train_scal, y_train)\n",
    "y_pred = rf.predict(X_test_scal)\n",
    "\n",
    "# Métricas\n",
    "from sklearn.metrics import confusion_matrix\n",
    "from sklearn.metrics import recall_score\n",
    "from sklearn.metrics import f1_score\n",
    "from sklearn.metrics import roc_curve\n",
    "from sklearn.metrics import accuracy_score\n",
    "\n",
    "cm = confusion_matrix(y_test, y_pred)\n",
    "recall = recall_score(y_test, y_pred)\n",
    "f1 = f1_score(y_test, y_pred)\n",
    "\n",
    "#Curva ROC\n",
    "y_pred_proba = rf.predict_proba(X_test_scal)[::,1]\n",
    "fpr, tpr, _ = roc_curve(y_test,  y_pred_proba)\n",
    "\n",
    "#A partir de la curva ROC obtenemos el área bajo la curva (AUC):\n",
    "auc = np.trapz(tpr,fpr)\n",
    "\n",
    "print(\"Matriz de confusión: \\n\", cm)\n",
    "print(\"Recall:\", recall)\n",
    "print(\"F1 Score:\", f1)\n",
    "print('Accuracy', accuracy_score(y_test, y_pred))\n",
    "print(\"Área bajo la curva:\", auc)"
   ]
  },
  {
   "cell_type": "code",
   "execution_count": 65,
   "metadata": {},
   "outputs": [
    {
     "data": {
      "text/plain": [
       "<AxesSubplot:>"
      ]
     },
     "execution_count": 65,
     "metadata": {},
     "output_type": "execute_result"
    },
    {
     "data": {
      "image/png": "[encoded data removed]",
      "text/plain": [
       "<Figure size 640x480 with 2 Axes>"
      ]
     },
     "metadata": {},
     "output_type": "display_data"
    }
   ],
   "source": [
    "sns.heatmap(confusion_matrix(y_test, y_pred, normalize='true'), annot=True)"
   ]
  },
  {
   "cell_type": "code",
   "execution_count": null,
   "metadata": {},
   "outputs": [],
   "source": [
    "#Los resultados indican que el modelo de random forest clasificó correctamente el 73% de los casos como buenos pagadores, \n",
    "#y el 70% de los casos como malos pagadores. Además, el modelo clasificó incorrectamente el 27% de los casos como buenos pagadores, \n",
    "#y el 30% de los casos como malos pagadores. Esto significa que el modelo tuvo una precisión de clasificación del \n",
    "#71,6% (4418 + 4200 / 4418 + 4200 + 1647 + 1824)."
   ]
  },
  {
   "cell_type": "code",
   "execution_count": 66,
   "metadata": {},
   "outputs": [
    {
     "data": {
      "image/png": "[encoded data removed]",
      "text/plain": [
       "<Figure size 640x480 with 1 Axes>"
      ]
     },
     "metadata": {},
     "output_type": "display_data"
    }
   ],
   "source": [
    "# Representamos la curva ROC\n",
    "plt.plot(fpr,tpr,label=\"AUC =\"+str(auc))\n",
    "plt.legend(loc=4)\n",
    "plt.show()"
   ]
  },
  {
   "cell_type": "code",
   "execution_count": 67,
   "metadata": {},
   "outputs": [
    {
     "data": {
      "image/png": "[encoded data removed]",
      "text/plain": [
       "<Figure size 640x480 with 1 Axes>"
      ]
     },
     "metadata": {},
     "output_type": "display_data"
    }
   ],
   "source": [
    "# Calcular la curva ROC\n",
    "from sklearn.metrics import roc_curve\n",
    "fpr, tpr, thresholds = roc_curve(y_test, y_pred)\n",
    "\n",
    "# Pintar la curva ROC\n",
    "import matplotlib.pyplot as plt\n",
    "plt.plot(fpr, tpr, color='orange', label='ROC')\n",
    "plt.plot([0,1], [0,1], color='darkblue', linestyle='--', label='Random model')\n",
    "plt.xlabel('Falso positivo rate')\n",
    "plt.ylabel('True positivo rate')\n",
    "plt.title('Curva ROC')\n",
    "plt.legend()\n",
    "plt.show()"
   ]
  },
  {
   "cell_type": "code",
   "execution_count": null,
   "metadata": {},
   "outputs": [],
   "source": [
    "#Los resultados indican que el modelo predecirá con una precisión relativamente alta, ya que el área bajo la curva es de 0.778, \n",
    "#lo que significa que el modelo será capaz de identificar correctamente a los buenos pagadores con una precisión del 77.8%. \n",
    "#Además, el Recall es de 0.700, lo que significa que el modelo es capaz de identificar correctamente el 70% de los buenos pagadores. \n",
    "#Finalmente, el F1 Score es de 0.705, lo que indica que el modelo es capaz de identificar correctamente el 70.5% de los buenos pagadores. \n",
    "#En general, estos resultados indican que el modelo de Random Forest tendrá una precisión relativamente alta para predecir si un cliente \n",
    "#es un buen pagador o no."
   ]
  },
  {
   "cell_type": "code",
   "execution_count": null,
   "metadata": {},
   "outputs": [],
   "source": [
    "#Estos resultados sugieren que el modelo de aprendizaje automático de objetivos binarios ha tenido una precisión bastante buena. \n",
    "#La exactitud es del 71%, con una medida F1 de 0,70. Esto indica que el modelo ha identificado correctamente el objetivo binario \n",
    "#en aproximadamente el 70% de los casos. La matriz de confusión muestra que el modelo ha clasificado correctamente el objetivo binario \n",
    "#en 4453 casos y incorrectamente en 1703 casos. La medida de recordar (recall) es del 70%, lo que significa que el modelo ha identificado \n",
    "#correctamente el objetivo binario en aproximadamente el 70% de los casos. La área bajo la curva es del 77%, lo que indica que el \n",
    "#modelo es capaz de distinguir entre los dos objetivos con una precisión bastante buena. En general, estos resultados sugieren que el modelo \n",
    "#de aprendizaje automático de objetivos binarios ha tenido un desempeño bastante aceptable."
   ]
  },
  {
   "attachments": {},
   "cell_type": "markdown",
   "metadata": {},
   "source": [
    "***ÁRBOL DE DECISIÓN***"
   ]
  },
  {
   "cell_type": "code",
   "execution_count": null,
   "metadata": {},
   "outputs": [],
   "source": [
    "# Los árboles de decisión pueden ser un buen modelo para predecir el target. \n",
    "#Los árboles de decisión son muy flexibles y no requieren mucha preparación de los datos, que es una de las principales \n",
    "#ventajas de este modelo. Además, son capaces de manejar datos numéricos y categóricos, lo que es útil para nuestro conjunto de datos. \n",
    "#El modelo también es fácil de comprender y visualizar, lo que puede ser útil al interpretar los resultados."
   ]
  },
  {
   "cell_type": "code",
   "execution_count": null,
   "metadata": {},
   "outputs": [],
   "source": [
    "#ÁRBOL DE DECISIÓN:Con los valores por defecto:"
   ]
  },
  {
   "cell_type": "code",
   "execution_count": 99,
   "metadata": {},
   "outputs": [
    {
     "name": "stdout",
     "output_type": "stream",
     "text": [
      "Matriz de confusión: \n",
      " [[3939 2217]\n",
      " [2167 3766]]\n",
      "Recall: 0.6347547615034552\n",
      "F1 Score: 0.6320913058073179\n",
      "Accuracy 0.6373562742989495\n",
      "Área bajo la curva: 0.6373091546308699\n"
     ]
    }
   ],
   "source": [
    "from sklearn.tree import DecisionTreeClassifier\n",
    "clf = DecisionTreeClassifier(random_state=42)\n",
    "clf.fit(X_train_scal, y_train)\n",
    "y_pred = clf.predict(X_test_scal)\n",
    "\n",
    "cm = confusion_matrix(y_test, y_pred)\n",
    "recall = recall_score(y_test, y_pred)\n",
    "f1 = f1_score(y_test, y_pred)\n",
    "\n",
    "#Curva ROC\n",
    "y_pred_proba = clf.predict_proba(X_test_scal)[::,1]\n",
    "fpr, tpr, _ = roc_curve(y_test,  y_pred_proba)\n",
    "\n",
    "#A partir de la curva ROC obtenemos el área bajo la curva (AUC):\n",
    "auc = np.trapz(tpr,fpr)\n",
    "\n",
    "print(\"Matriz de confusión: \\n\", cm)\n",
    "print(\"Recall:\", recall)\n",
    "print(\"F1 Score:\", f1)\n",
    "print('Accuracy', accuracy_score(y_test, y_pred))\n",
    "print(\"Área bajo la curva:\", auc)"
   ]
  },
  {
   "cell_type": "code",
   "execution_count": 104,
   "metadata": {},
   "outputs": [
    {
     "data": {
      "text/plain": [
       "<AxesSubplot:>"
      ]
     },
     "execution_count": 104,
     "metadata": {},
     "output_type": "execute_result"
    },
    {
     "data": {
      "image/png": "[encoded data removed]",
      "text/plain": [
       "<Figure size 640x480 with 2 Axes>"
      ]
     },
     "metadata": {},
     "output_type": "display_data"
    }
   ],
   "source": [
    "sns.heatmap(confusion_matrix(y_test, y_pred, normalize='true'), annot=True)"
   ]
  },
  {
   "cell_type": "code",
   "execution_count": null,
   "metadata": {},
   "outputs": [],
   "source": [
    "#Los resultados representan un buen desempeño para el modelo, con una precisión de 0.632091, un recall de 0.634755, una exactitud \n",
    "#de 0.637356 y un área bajo la curva de 0.637309. Esto significa que el modelo es capaz de predecir correctamente el estado de una \n",
    "#solicitud de un 63.2% de las veces, con una exactitud de un 63.7%. Esto también significa que el modelo es capaz de detectar un 63.5% \n",
    "#de los casos en los que el estado es verdadero. Estos resultados son buenos y muestran un buen desempeño del modelo.\n",
    "#Las métricas obtenidas son moderadas, pero no necesariamente malas."
   ]
  },
  {
   "cell_type": "code",
   "execution_count": 98,
   "metadata": {},
   "outputs": [
    {
     "name": "stdout",
     "output_type": "stream",
     "text": [
      "Fitting 5 folds for each of 180 candidates, totalling 900 fits\n",
      "Mejores parámetros: {'criterion': 'gini', 'max_depth': 6, 'max_features': 'log2', 'min_samples_leaf': 4, 'min_samples_split': 2}\n",
      "Matriz de confusión: \n",
      " [[4496 1660]\n",
      " [3933 2000]]\n",
      "Recall: 0.33709758975223325\n",
      "F1 Score: 0.4169707078077765\n",
      "Accuracy 0.5373480023161552\n",
      "Área bajo la curva: 0.7781046353985105\n"
     ]
    }
   ],
   "source": [
    "\n",
    "from sklearn.tree import DecisionTreeClassifier\n",
    "from sklearn.model_selection import GridSearchCV\n",
    "\n",
    "params = {'max_depth':[2,3,4,5,6],\n",
    "          'min_samples_split':[2,3,4],\n",
    "          'min_samples_leaf':[2,3,4],\n",
    "          'max_features':['auto','log2'],\n",
    "          'criterion':['gini','entropy']}\n",
    "\n",
    "clf = DecisionTreeClassifier()\n",
    "grid_search = GridSearchCV(clf, param_grid=params, cv=5, n_jobs=-1, verbose=1)\n",
    "grid_search.fit(X_train_scal, y_train)\n",
    "\n",
    "print(\"Mejores parámetros:\", grid_search.best_params_)\n",
    "\n",
    "clf = DecisionTreeClassifier(**grid_search.best_params_)\n",
    "clf.fit(X_train_scal, y_train)\n",
    "\n",
    "y_pred = clf.predict(X_test_scal)\n",
    "\n",
    "cm = confusion_matrix(y_test, y_pred)\n",
    "recall = recall_score(y_test, y_pred)\n",
    "f1 = f1_score(y_test, y_pred)\n",
    "\n",
    "#Curva ROC\n",
    "y_pred_proba = rf.predict_proba(X_test_scal)[::,1]\n",
    "fpr, tpr, _ = roc_curve(y_test,  y_pred_proba)\n",
    "\n",
    "#A partir de la curva ROC obtenemos el área bajo la curva (AUC):\n",
    "auc = np.trapz(tpr,fpr)\n",
    "\n",
    "print(\"Matriz de confusión: \\n\", cm)\n",
    "print(\"Recall:\", recall)\n",
    "print(\"F1 Score:\", f1)\n",
    "print('Accuracy', accuracy_score(y_test, y_pred))\n",
    "print(\"Área bajo la curva:\", auc)"
   ]
  },
  {
   "cell_type": "code",
   "execution_count": 105,
   "metadata": {},
   "outputs": [
    {
     "data": {
      "text/plain": [
       "<AxesSubplot:>"
      ]
     },
     "execution_count": 105,
     "metadata": {},
     "output_type": "execute_result"
    },
    {
     "data": {
      "image/png": "[encoded data removed]",
      "text/plain": [
       "<Figure size 640x480 with 2 Axes>"
      ]
     },
     "metadata": {},
     "output_type": "display_data"
    }
   ],
   "source": [
    "sns.heatmap(confusion_matrix(y_test, y_pred, normalize='true'), annot=True)"
   ]
  },
  {
   "cell_type": "code",
   "execution_count": 120,
   "metadata": {},
   "outputs": [
    {
     "name": "stdout",
     "output_type": "stream",
     "text": [
      "{'max_depth': 5, 'min_samples_leaf': 30}\n"
     ]
    }
   ],
   "source": [
    "#Definimos los valores que tomará el hiperparámetro\n",
    "grid_param = {\n",
    "    'max_depth': np.arange(3, 10),\n",
    "    'min_samples_leaf': np.arange(10, 100, 10)\n",
    "}\n",
    "\n",
    "#Creamos el objeto GridSearchCV\n",
    "gd_sr = GridSearchCV(estimator=DecisionTreeClassifier(),\n",
    "                     param_grid=grid_param,\n",
    "                     scoring='accuracy',\n",
    "                     cv=5,\n",
    "                     n_jobs=-1)\n",
    "\n",
    "#Entrenamos el modelo\n",
    "gd_sr.fit(X_train_scal, y_train)\n",
    "\n",
    "#Mostramos el mejor estimador\n",
    "best_parameters = gd_sr.best_params_\n",
    "print(best_parameters)\n",
    "#Generamos el modelo con los parámetros óptimos\n",
    "model = DecisionTreeClassifier(max_depth=5, min_samples_leaf=30,random_state=42)\n",
    "#Entrenamos el modelo\n",
    "model.fit(X_train_scal, y_train)\n",
    "#Realizamos las predicciones\n",
    "y_pred = model.predict(X_test_scal)\n",
    "\n"
   ]
  },
  {
   "cell_type": "code",
   "execution_count": 121,
   "metadata": {},
   "outputs": [
    {
     "name": "stdout",
     "output_type": "stream",
     "text": [
      "Matriz de confusión: \n",
      " [[2925 3231]\n",
      " [2047 3886]]\n",
      "Recall: 0.6549806168885892\n",
      "F1 Score: 0.5955555555555556\n",
      "Accuracy 0.5634047481181239\n",
      "Área bajo la curva: 0.5848356107133951\n"
     ]
    }
   ],
   "source": [
    "cm = confusion_matrix(y_test, y_pred)\n",
    "recall = recall_score(y_test, y_pred)\n",
    "f1 = f1_score(y_test, y_pred)\n",
    "\n",
    "#Curva ROC\n",
    "y_pred_proba = gd_sr.predict_proba(X_test_scal)[::,1]\n",
    "fpr, tpr, _ = roc_curve(y_test,  y_pred_proba)\n",
    "\n",
    "#A partir de la curva ROC obtenemos el área bajo la curva (AUC):\n",
    "auc = np.trapz(tpr,fpr)\n",
    "\n",
    "print(\"Matriz de confusión: \\n\", cm)\n",
    "print(\"Recall:\", recall)\n",
    "print(\"F1 Score:\", f1)\n",
    "print('Accuracy', accuracy_score(y_test, y_pred))\n",
    "print(\"Área bajo la curva:\", auc)"
   ]
  },
  {
   "attachments": {},
   "cell_type": "markdown",
   "metadata": {},
   "source": [
    "***GRADIENT BOOSTING***"
   ]
  },
  {
   "cell_type": "code",
   "execution_count": null,
   "metadata": {},
   "outputs": [],
   "source": [
    "#El gradient boosting es una de las técnicas de aprendizaje automático más \n",
    "#populares y se utiliza para predecir el comportamiento de los datos, ya sea para clasificar o predecir. Esta técnica se basa en la combinación \n",
    "#de varios árboles de decisión para obtener un resultado más preciso. Esta técnica también es muy eficaz para tratar \n",
    "#con modelos de datos desbalanceados."
   ]
  },
  {
   "cell_type": "code",
   "execution_count": 122,
   "metadata": {},
   "outputs": [],
   "source": [
    "from sklearn.ensemble import GradientBoostingClassifier\n",
    "\n",
    "parameters = {'n_estimators' : [50,100,150],\n",
    "              'max_depth': [4,5,6],\n",
    "              'learning_rate': [0.1,0.5, 0.7]\n",
    "            }\n",
    "\n",
    "\n",
    "model = GradientBoostingClassifier(random_state=42)\n",
    "\n",
    "gb_gs = GridSearchCV(model, parameters, cv=5, scoring='recall')\n",
    "\n",
    "gb_gs.fit(X_train_scal, y_train)\n",
    "model = GradientBoostingClassifier(random_state=42)\n",
    "model.fit(X_train_scal, y_train)\n",
    "y_pred = model.predict(X_test_scal)"
   ]
  },
  {
   "cell_type": "code",
   "execution_count": 123,
   "metadata": {},
   "outputs": [
    {
     "name": "stdout",
     "output_type": "stream",
     "text": [
      "GradientBoostingClassifier(max_depth=6, n_estimators=150, random_state=42)\n",
      "0.670757304754428\n",
      "{'learning_rate': 0.1, 'max_depth': 6, 'n_estimators': 150}\n"
     ]
    }
   ],
   "source": [
    "print(gb_gs.best_estimator_)\n",
    "print(gb_gs.best_score_)\n",
    "print(gb_gs.best_params_)"
   ]
  },
  {
   "cell_type": "code",
   "execution_count": 124,
   "metadata": {},
   "outputs": [],
   "source": [
    "y_pred = gb_gs.best_estimator_.predict(X_test_scal)"
   ]
  },
  {
   "cell_type": "code",
   "execution_count": 125,
   "metadata": {},
   "outputs": [
    {
     "name": "stdout",
     "output_type": "stream",
     "text": [
      "Matriz de confusión: \n",
      " [[3689 2467]\n",
      " [1955 3978]]\n",
      "Recall: 0.670487106017192\n",
      "F1 Score: 0.6427532719340767\n",
      "Accuracy 0.6342129208371247\n",
      "Área bajo la curva: 0.6109662730466383\n"
     ]
    }
   ],
   "source": [
    "cm = confusion_matrix(y_test, y_pred)\n",
    "recall = recall_score(y_test, y_pred)\n",
    "f1 = f1_score(y_test, y_pred)\n",
    "\n",
    "#Curva ROC\n",
    "y_pred_proba = model.predict_proba(X_test_scal)[::,1]\n",
    "fpr, tpr, _ = roc_curve(y_test,  y_pred_proba)\n",
    "\n",
    "#A partir de la curva ROC obtenemos el área bajo la curva (AUC):\n",
    "auc = np.trapz(tpr,fpr)\n",
    "\n",
    "print(\"Matriz de confusión: \\n\", cm)\n",
    "print(\"Recall:\", recall)\n",
    "print(\"F1 Score:\", f1)\n",
    "print('Accuracy', accuracy_score(y_test, y_pred))\n",
    "print(\"Área bajo la curva:\", auc)"
   ]
  },
  {
   "cell_type": "code",
   "execution_count": 118,
   "metadata": {},
   "outputs": [],
   "source": [
    "from sklearn.ensemble import GradientBoostingClassifier\n",
    "\n",
    "gbct = GradientBoostingClassifier(max_depth=2,\n",
    "                                 n_estimators=100,\n",
    "                                 learning_rate=1.0,#cuanto pesa cada arbol.a mayor peso mayor consistencia del arbol\n",
    "                                 random_state=42)\n",
    "gbct.fit(X_train_scal, y_train)\n",
    "\n",
    "\n",
    "y_pred_gbct = gbct.predict(X_test_scal)\n"
   ]
  },
  {
   "cell_type": "code",
   "execution_count": 119,
   "metadata": {},
   "outputs": [
    {
     "name": "stdout",
     "output_type": "stream",
     "text": [
      "Matriz de confusión: \n",
      " [[3689 2467]\n",
      " [1955 3978]]\n",
      "Recall: 0.670487106017192\n",
      "F1 Score: 0.6427532719340767\n",
      "Accuracy 0.5926875672098602\n",
      "Área bajo la curva: 0.6373091546308699\n"
     ]
    }
   ],
   "source": [
    "fpr, tpr, _ = roc_curve(y_test,  y_pred_proba)\n",
    "\n",
    "#A partir de la curva ROC obtenemos el área bajo la curva (AUC):\n",
    "auc = np.trapz(tpr,fpr)\n",
    "\n",
    "print(\"Matriz de confusión: \\n\", cm)\n",
    "print(\"Recall:\", recall)\n",
    "print(\"F1 Score:\", f1)\n",
    "print('Accuracy', accuracy_score(y_test, y_pred_gbct))\n",
    "print(\"Área bajo la curva:\", auc)"
   ]
  },
  {
   "cell_type": "code",
   "execution_count": null,
   "metadata": {},
   "outputs": [],
   "source": [
    "#El modelo es capaz de predecir correctamente el 63.7% de los casos. El Recall (la capacidad del modelo para identificar los casos positivos) \n",
    "#es del 67%, lo que significa que el modelo es capaz de identificar el 67% de los casos positivos correctamente. \n",
    "#El F1 Score es del 64.2%, lo que significa que el modelo tiene una precisión de 64.2% al predecir los casos positivos y negativos. \n",
    "#Finalmente, la precisión del modelo es del 59.2%, lo que significa que el modelo es capaz de identificar correctamente el 59.2% de los casos.\n",
    "# Esto significa que el modelo es capaz de predecir los casos positivos y negativos con una precisión razonablemente alta."
   ]
  },
  {
   "attachments": {},
   "cell_type": "markdown",
   "metadata": {},
   "source": [
    "***XG BOOST***"
   ]
  },
  {
   "cell_type": "code",
   "execution_count": null,
   "metadata": {},
   "outputs": [],
   "source": [
    "#Un modelo XG BOOST puede ser una buena opción para predecir el target. El XG BOOST es un algoritmo de aprendizaje automático \n",
    "#basado en árboles de decisión capaz de manejar datos heterogéneos, tanto numéricos como categóricos, lo que le permite procesar \n",
    "#una amplia gama de problemas de aprendizaje automático. Además, el XG BOOST también es conocido por su capacidad para generalizar \n",
    "#y resistir el sobreajuste. Por lo tanto, es una buena opción para nuestro propósito de predecir el target."
   ]
  },
  {
   "cell_type": "code",
   "execution_count": 126,
   "metadata": {},
   "outputs": [
    {
     "name": "stderr",
     "output_type": "stream",
     "text": [
      "c:\\Users\\csanc\\AppData\\Local\\Programs\\Python\\Python37\\lib\\site-packages\\sklearn\\model_selection\\_validation.py:372: FitFailedWarning: \n",
      "5 fits failed out of a total of 5.\n",
      "The score on these train-test partitions for these parameters will be set to nan.\n",
      "If these failures are not expected, you can try to debug them by setting error_score='raise'.\n",
      "\n",
      "Below are more details about the failures:\n",
      "--------------------------------------------------------------------------------\n",
      "5 fits failed with the following error:\n",
      "Traceback (most recent call last):\n",
      "  File \"c:\\Users\\csanc\\AppData\\Local\\Programs\\Python\\Python37\\lib\\site-packages\\sklearn\\model_selection\\_validation.py\", line 680, in _fit_and_score\n",
      "    estimator.fit(X_train, y_train, **fit_params)\n",
      "  File \"c:\\Users\\csanc\\AppData\\Local\\Programs\\Python\\Python37\\lib\\site-packages\\xgboost\\core.py\", line 575, in inner_f\n",
      "    return f(**kwargs)\n",
      "  File \"c:\\Users\\csanc\\AppData\\Local\\Programs\\Python\\Python37\\lib\\site-packages\\xgboost\\sklearn.py\", line 1577, in fit\n",
      "    super().fit(**args)\n",
      "  File \"c:\\Users\\csanc\\AppData\\Local\\Programs\\Python\\Python37\\lib\\site-packages\\xgboost\\core.py\", line 575, in inner_f\n",
      "    return f(**kwargs)\n",
      "  File \"c:\\Users\\csanc\\AppData\\Local\\Programs\\Python\\Python37\\lib\\site-packages\\xgboost\\sklearn.py\", line 1397, in fit\n",
      "    enable_categorical=self.enable_categorical,\n",
      "  File \"c:\\Users\\csanc\\AppData\\Local\\Programs\\Python\\Python37\\lib\\site-packages\\xgboost\\sklearn.py\", line 410, in _wrap_evaluation_matrices\n",
      "    enable_categorical=enable_categorical,\n",
      "  File \"c:\\Users\\csanc\\AppData\\Local\\Programs\\Python\\Python37\\lib\\site-packages\\xgboost\\sklearn.py\", line 1396, in <lambda>\n",
      "    create_dmatrix=lambda **kwargs: DMatrix(nthread=self.n_jobs, **kwargs),\n",
      "  File \"c:\\Users\\csanc\\AppData\\Local\\Programs\\Python\\Python37\\lib\\site-packages\\xgboost\\core.py\", line 575, in inner_f\n",
      "    return f(**kwargs)\n",
      "  File \"c:\\Users\\csanc\\AppData\\Local\\Programs\\Python\\Python37\\lib\\site-packages\\xgboost\\core.py\", line 709, in __init__\n",
      "    self.feature_names = feature_names\n",
      "  File \"c:\\Users\\csanc\\AppData\\Local\\Programs\\Python\\Python37\\lib\\site-packages\\xgboost\\core.py\", line 1078, in feature_names\n",
      "    raise ValueError('feature_names must be unique')\n",
      "ValueError: feature_names must be unique\n",
      "\n",
      "  warnings.warn(some_fits_failed_message, FitFailedWarning)\n"
     ]
    }
   ],
   "source": [
    "from xgboost import XGBRFClassifier\n",
    "\n",
    "model = XGBRFClassifier(n_estimators=100, random_state=42, use_label_encoder=False)\n",
    "\n",
    "results_cv_xgb = cross_val_score(model, X, y, cv=5, scoring='accuracy')"
   ]
  },
  {
   "cell_type": "code",
   "execution_count": 127,
   "metadata": {},
   "outputs": [
    {
     "name": "stdout",
     "output_type": "stream",
     "text": [
      "F1 Score: 0.6576160256085595\n",
      "Precision: 0.6581066272296187\n",
      "Recall: 0.6576226321449251\n"
     ]
    }
   ],
   "source": [
    "from xgboost import XGBClassifier\n",
    "\n",
    "model = XGBClassifier()\n",
    "model.fit(X_train_scal, y_train)\n",
    "y_pred = model.predict(X_test_scal)\n",
    "\n",
    "f1 = f1_score(y_test, y_pred, average='weighted')\n",
    "precision = precision_score(y_test, y_pred, average='weighted')\n",
    "recall = recall_score(y_test, y_pred, average='weighted')\n",
    "#auc = roc_auc_score(y_test, y_pred)\n",
    "\n",
    "print('F1 Score:', f1)\n",
    "print('Precision:', precision)\n",
    "print('Recall:', recall)\n",
    "#print('AUC Score:', auc)"
   ]
  },
  {
   "attachments": {},
   "cell_type": "markdown",
   "metadata": {},
   "source": [
    "***SVM***"
   ]
  },
  {
   "cell_type": "code",
   "execution_count": null,
   "metadata": {},
   "outputs": [],
   "source": [
    "#un modelo SVM puede ser una buena opción para predecir el target. Los modelos SVM son modelos muy robustos que tienen un \n",
    "#buen desempeño para clasificar datos con muchas variables. Además, el modelo SVM tiene la capacidad de manejar datos no lineales, \n",
    "#lo que lo hace ideal para trabajar con conjuntos de datos complejos."
   ]
  },
  {
   "cell_type": "code",
   "execution_count": 93,
   "metadata": {},
   "outputs": [],
   "source": [
    "\n",
    "#Importamos las librerías\n",
    "from sklearn.svm import SVC\n",
    "from sklearn.model_selection import GridSearchCV\n",
    "from sklearn.metrics import accuracy_score, f1_score, precision_score, recall_score\n",
    "\n",
    "#Escalamos los datos\n",
    "X_train = X_train.astype(float)\n",
    "X_test = X_test.astype(float)\n",
    "scaler = StandardScaler()\n",
    "X_train = scaler.fit_transform(X_train)\n",
    "X_test = scaler.transform(X_test)\n",
    "\n",
    "#Ajustamos el modelo SVM usando GridSearchCV\n",
    "parameters = {'C':[0.01,0.1,1,10],'gamma':[0.01,0.1,1,10]}\n",
    "svc = SVC()\n",
    "clf = GridSearchCV(svc, param_grid=parameters,cv=5,scoring='accuracy')\n",
    "clf.fit(X_train, y_train)\n",
    "best_parameters = clf.best_params_\n",
    "\n",
    "#Evaluamos el modelo\n",
    "y_pred = clf.predict(X_test)\n"
   ]
  },
  {
   "cell_type": "code",
   "execution_count": 103,
   "metadata": {},
   "outputs": [
    {
     "name": "stdout",
     "output_type": "stream",
     "text": [
      "Matriz de confusión: \n",
      " [[3939 2217]\n",
      " [2167 3766]]\n",
      "Recall: 0.6347547615034552\n",
      "F1 Score: 0.6320913058073179\n",
      "Accuracy 0.6373562742989495\n",
      "Área bajo la curva: 0.6373091546308699\n"
     ]
    }
   ],
   "source": [
    "cm = confusion_matrix(y_test, y_pred)\n",
    "recall = recall_score(y_test, y_pred)\n",
    "f1 = f1_score(y_test, y_pred)\n",
    "\n",
    "#Curva ROC\n",
    "y_pred_proba = clf.predict_proba(X_test_scal)[::,1]\n",
    "fpr, tpr, _ = roc_curve(y_test,  y_pred_proba)\n",
    "\n",
    "#A partir de la curva ROC obtenemos el área bajo la curva (AUC):\n",
    "auc = np.trapz(tpr,fpr)\n",
    "\n",
    "print(\"Matriz de confusión: \\n\", cm)\n",
    "print(\"Recall:\", recall)\n",
    "print(\"F1 Score:\", f1)\n",
    "print('Accuracy', accuracy_score(y_test, y_pred))\n",
    "print(\"Área bajo la curva:\", auc)"
   ]
  },
  {
   "cell_type": "code",
   "execution_count": 106,
   "metadata": {},
   "outputs": [
    {
     "data": {
      "text/plain": [
       "<AxesSubplot:>"
      ]
     },
     "execution_count": 106,
     "metadata": {},
     "output_type": "execute_result"
    },
    {
     "data": {
      "image/png": "[encoded data removed]",
      "text/plain": [
       "<Figure size 640x480 with 2 Axes>"
      ]
     },
     "metadata": {},
     "output_type": "display_data"
    }
   ],
   "source": [
    "sns.heatmap(confusion_matrix(y_test, y_pred, normalize='true'), annot=True)"
   ]
  }
 ],
 "metadata": {
  "kernelspec": {
   "display_name": "Python 3",
   "language": "python",
   "name": "python3"
  },
  "language_info": {
   "codemirror_mode": {
    "name": "ipython",
    "version": 3
   },
   "file_extension": ".py",
   "mimetype": "text/x-python",
   "name": "python",
   "nbconvert_exporter": "python",
   "pygments_lexer": "ipython3",
   "version": "3.7.4"
  },
  "orig_nbformat": 4
 },
 "nbformat": 4,
 "nbformat_minor": 2
}
